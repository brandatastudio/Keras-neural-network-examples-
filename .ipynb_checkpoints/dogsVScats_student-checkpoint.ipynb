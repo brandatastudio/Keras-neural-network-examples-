{
 "cells": [
  {
   "cell_type": "markdown",
   "metadata": {
    "nbgrader": {
     "grade": false,
     "locked": false,
     "solution": false
    }
   },
   "source": [
    "# Lab assignment: dogs VS cats"
   ]
  },
  {
   "cell_type": "markdown",
   "metadata": {
    "nbgrader": {
     "grade": false,
     "locked": false,
     "solution": false
    }
   },
   "source": [
    "<table><tr>\n",
    "    <td><img src=\"img/doge.jpg\" style=\"width:400px;height:400px;\"></td>\n",
    "    <td><img src=\"img/cat.jpg\" style=\"width:400px;height:400px;\"></td>\n",
    "</tr></table>"
   ]
  },
  {
   "cell_type": "markdown",
   "metadata": {
    "nbgrader": {
     "grade": false,
     "locked": false,
     "solution": false
    }
   },
   "source": [
    "In this assignment we will face an image classification problem, trying to tell apart images of dogs and images of cats. The final battle begins! And to do so we will use a Deep Learning approach."
   ]
  },
  {
   "cell_type": "markdown",
   "metadata": {
    "nbgrader": {
     "grade": false,
     "locked": false,
     "solution": false
    }
   },
   "source": [
    "## Guidelines"
   ]
  },
  {
   "cell_type": "markdown",
   "metadata": {},
   "source": [
    "Throughout this notebook you will find empty cells that you will need to fill with your own code. Follow the instructions in the notebook and pay special attention to the following symbols.\n",
    "\n",
    "<img src=\"img/question.png\" height=\"80\" width=\"80\" style=\"float: right;\"/>\n",
    "\n",
    "***\n",
    "\n",
    "<font color=#ad3e26>\n",
    "You will need to solve a question by writing your own code or answer in the cell immediately below or in a different file, as instructed.</font>\n",
    "\n",
    "***"
   ]
  },
  {
   "cell_type": "markdown",
   "metadata": {},
   "source": [
    "<img src=\"img/exclamation.png\" height=\"80\" width=\"80\" style=\"float: right;\"/>\n",
    "\n",
    "***\n",
    "<font color=#2655ad>\n",
    "This is a hint or useful observation that can help you solve this assignment. You should pay attention to these hints to better understand the assignment.\n",
    "</font>\n",
    "\n",
    "***"
   ]
  },
  {
   "cell_type": "markdown",
   "metadata": {},
   "source": [
    "<img src=\"img/pro.png\" height=\"80\" width=\"80\" style=\"float: right;\"/>\n",
    "\n",
    "***\n",
    "<font color=#259b4c>\n",
    "This is an advanced exercise that can help you gain a deeper knowledge into the topic. Good luck!</font>\n",
    "\n",
    "***"
   ]
  },
  {
   "cell_type": "markdown",
   "metadata": {},
   "source": [
    "To avoid missing packages and compatibility issues you should run this notebook under one of the [recommended Deep Learning environment files](https://github.com/albarji/teaching-environments/tree/master/deeplearning)."
   ]
  },
  {
   "cell_type": "markdown",
   "metadata": {},
   "source": [
    "The following code will embed any plots into the notebook instead of generating a new window:"
   ]
  },
  {
   "cell_type": "code",
   "execution_count": 5,
   "metadata": {},
   "outputs": [],
   "source": [
    "import matplotlib.pyplot as plt\n",
    "%matplotlib inline"
   ]
  },
  {
   "cell_type": "markdown",
   "metadata": {},
   "source": [
    "Lastly, if you need any help on the usage of a Python function you can place the writing cursor over its name and press Caps+Shift to produce a pop-out with related documentation. This will only work inside code cells. \n",
    "\n",
    "Let's go!"
   ]
  },
  {
   "cell_type": "markdown",
   "metadata": {},
   "source": [
    "## Data processing"
   ]
  },
  {
   "cell_type": "markdown",
   "metadata": {},
   "source": [
    "The images to use in this assignment are available [here](https://drive.google.com/open?id=105jGDrjEgxx2W2gYhFF8Mbf1J9qJeDPm). Download the data package and extract it into a folder in your computer."
   ]
  },
  {
   "cell_type": "markdown",
   "metadata": {},
   "source": [
    "Data is structured under two folders, *train* and *test*. You are only allowed to use the *test* data to measure the performance of your model **after** you have finished training. Both *train* and *test* folders contain one subfolder per class (*cats* and *dogs*)."
   ]
  },
  {
   "cell_type": "markdown",
   "metadata": {},
   "source": [
    "The recommended way to load an image from disk is to use the *imread* function from the *scikit-image* library. For example:"
   ]
  },
  {
   "cell_type": "code",
   "execution_count": 6,
   "metadata": {},
   "outputs": [],
   "source": [
    "from skimage.io import imread\n",
    "\n",
    "image = imread(\"./img/sample.jpg\")"
   ]
  },
  {
   "cell_type": "markdown",
   "metadata": {},
   "source": [
    "This returns the image as 3-dimensional numpy matrix, containing the value of intensity of every pixel in each row, column and color channel."
   ]
  },
  {
   "cell_type": "code",
   "execution_count": 7,
   "metadata": {},
   "outputs": [
    {
     "data": {
      "text/plain": [
       "(499, 367, 3)"
      ]
     },
     "execution_count": 7,
     "metadata": {},
     "output_type": "execute_result"
    }
   ],
   "source": [
    "image.shape"
   ]
  },
  {
   "cell_type": "code",
   "execution_count": 8,
   "metadata": {},
   "outputs": [
    {
     "data": {
      "text/plain": [
       "array([[[ 86, 103,  49],\n",
       "        [ 89, 106,  52],\n",
       "        [ 92, 109,  55],\n",
       "        ...,\n",
       "        [ 23,  33,  60],\n",
       "        [ 25,  34,  63],\n",
       "        [ 24,  33,  64]],\n",
       "\n",
       "       [[ 84, 101,  47],\n",
       "        [ 87, 104,  50],\n",
       "        [ 90, 107,  53],\n",
       "        ...,\n",
       "        [ 23,  33,  60],\n",
       "        [ 25,  34,  63],\n",
       "        [ 24,  33,  64]],\n",
       "\n",
       "       [[ 80,  99,  43],\n",
       "        [ 82, 101,  45],\n",
       "        [ 86, 105,  50],\n",
       "        ...,\n",
       "        [ 24,  34,  61],\n",
       "        [ 26,  35,  64],\n",
       "        [ 25,  34,  65]],\n",
       "\n",
       "       ...,\n",
       "\n",
       "       [[ 37,  57,  30],\n",
       "        [ 37,  55,  29],\n",
       "        [ 36,  54,  28],\n",
       "        ...,\n",
       "        [176, 179, 184],\n",
       "        [175, 178, 183],\n",
       "        [175, 178, 183]],\n",
       "\n",
       "       [[ 36,  56,  29],\n",
       "        [ 36,  54,  28],\n",
       "        [ 35,  53,  27],\n",
       "        ...,\n",
       "        [176, 179, 184],\n",
       "        [175, 178, 183],\n",
       "        [175, 178, 183]],\n",
       "\n",
       "       [[ 35,  55,  28],\n",
       "        [ 35,  53,  27],\n",
       "        [ 34,  52,  26],\n",
       "        ...,\n",
       "        [176, 179, 184],\n",
       "        [175, 178, 183],\n",
       "        [175, 178, 183]]], dtype=uint8)"
      ]
     },
     "execution_count": 8,
     "metadata": {},
     "output_type": "execute_result"
    }
   ],
   "source": [
    "image"
   ]
  },
  {
   "cell_type": "markdown",
   "metadata": {},
   "source": [
    "We can visualize the loaded image using"
   ]
  },
  {
   "cell_type": "code",
   "execution_count": 9,
   "metadata": {},
   "outputs": [
    {
     "data": {
      "text/plain": [
       "<matplotlib.image.AxesImage at 0x7fcef62d8b00>"
      ]
     },
     "execution_count": 9,
     "metadata": {},
     "output_type": "execute_result"
    },
    {
     "data": {
      "image/png": "[encoded data removed]",
      "text/plain": [
       "<Figure size 432x288 with 1 Axes>"
      ]
     },
     "metadata": {
      "needs_background": "light"
     },
     "output_type": "display_data"
    }
   ],
   "source": [
    "plt.imshow(image)"
   ]
  },
  {
   "cell_type": "markdown",
   "metadata": {},
   "source": [
    "The dataset includes 20000 training images and 5000 test images, each image at a different resolution. Loading all this data at once requires too much memory, so we will need to **resize** each image to a smaller, common size as we load them from disk. We can do so by again making use of a *scikit-image* function. For example:"
   ]
  },
  {
   "cell_type": "code",
   "execution_count": 10,
   "metadata": {},
   "outputs": [
    {
     "name": "stderr",
     "output_type": "stream",
     "text": [
      "/home/stefano/anaconda3/envs/deeplearning-labs/lib/python3.6/site-packages/skimage/transform/_warps.py:110: UserWarning: Anti-aliasing will be enabled by default in skimage 0.15 to avoid aliasing artifacts when down-sampling images.\n",
      "  warn(\"Anti-aliasing will be enabled by default in skimage 0.15 to \"\n"
     ]
    },
    {
     "data": {
      "text/plain": [
       "<matplotlib.image.AxesImage at 0x7fcef49f5358>"
      ]
     },
     "execution_count": 10,
     "metadata": {},
     "output_type": "execute_result"
    },
    {
     "data": {
      "image/png": "[encoded data removed]",
      "text/plain": [
       "<Figure size 432x288 with 1 Axes>"
      ]
     },
     "metadata": {
      "needs_background": "light"
     },
     "output_type": "display_data"
    }
   ],
   "source": [
    "from skimage.transform import resize\n",
    "\n",
    "size = 64\n",
    "smallimage = resize(image, (64, 64, 3), mode=\"reflect\")  # 64 x 64 pixels, 3 color channels\n",
    "plt.imshow(smallimage)"
   ]
  },
  {
   "cell_type": "markdown",
   "metadata": {},
   "source": [
    "<img src=\"img/question.png\" height=\"80\" width=\"80\" style=\"float: right;\"/>\n",
    "\n",
    "***\n",
    "\n",
    "<font color=#ad3e26>\n",
    "    \n",
    "Perform the following tasks to prepare the data:\n",
    "- Build a numpy array *X_train* containing one entry for each training image in the data. Each entry must contain the 3-dimensional matrix of pixels corresponding to an image. Make sure to scale down each image to a common size\n",
    "- Normalize *X_train* so that pixels follow a distribution lying in the range [-0.5,0.5]\n",
    "- Build a corresponding array *Y_train* with the class of each training image (0 for cats and 1 for dogs).\n",
    "- Randomly shuffle the data. Make sure you shuffle both *X_train* and *Y_train* using the same permutation, so you don't lose track of the class of each training pattern.\n",
    "\n",
    "- Repeat the whole procedure again to generate *X_test* and *Y_test* matrices for the test data.\n",
    "</font>\n",
    "\n",
    "***"
   ]
  },
  {
   "cell_type": "markdown",
   "metadata": {},
   "source": [
    "<img src=\"img/exclamation.png\" height=\"80\" width=\"80\" style=\"float: right;\"/>\n",
    "\n",
    "***\n",
    "<font color=#2655ad>\n",
    "- Take advantage of the *glob* package to generate the filename lists for the indoor and outdoor subfolders.\n",
    "- Since you need to repeat the procedure both for training and test data, it would be useful to implement a function that performs all the data loading and transforming steps.\n",
    "</font>\n",
    "\n",
    "***"
   ]
  },
  {
   "cell_type": "markdown",
   "metadata": {},
   "source": [
    "### Loading the data"
   ]
  },
  {
   "cell_type": "code",
   "execution_count": 11,
   "metadata": {},
   "outputs": [],
   "source": [
    "from skimage.io import imread\n",
    "from skimage.transform import resize\n",
    "\n",
    "catpathtrain = '/home/stefano/Dropbox/Aprendizaje util/Programacion learning/aavanzados/neural networks/train/cats/cat.'\n",
    "dogpathtrain = '/home/stefano/Dropbox/Aprendizaje util/Programacion learning/aavanzados/neural networks/train/dogs/dog.'\n",
    "\n",
    "\n",
    "def imageloaading(imgs_to_load, sequence_to_use,filetype,\n",
    "                  size_of_resizing = 64 ,ncolor_channels = 3 ,transf_mode = \"reflect\"):\n",
    "    \n",
    "    listofpower = []\n",
    "    \n",
    "    for i in sequence_to_use:\n",
    "        try:\n",
    "            image = imread(imgs_to_load + str(i) + filetype)\n",
    "            smallimage = resize(image, (size_of_resizing, size_of_resizing, ncolor_channels), mode=\"reflect\")\n",
    "            listofpower.append(smallimage)\n",
    "            \n",
    "        except FileNotFoundError:\n",
    "            continue\n",
    "    return(listofpower)\n",
    "        \n",
    "cattraindata = imageloaading(catpathtrain,range(0,12500),'.jpg')\n",
    "\n",
    "\n"
   ]
  },
  {
   "cell_type": "code",
   "execution_count": 12,
   "metadata": {},
   "outputs": [],
   "source": [
    "dogtraindata = imageloaading(dogpathtrain,range(0,12500),'.jpg')"
   ]
  },
  {
   "cell_type": "markdown",
   "metadata": {},
   "source": [
    "### Experimenting transforming the data into arrays"
   ]
  },
  {
   "cell_type": "code",
   "execution_count": 13,
   "metadata": {},
   "outputs": [
    {
     "data": {
      "text/plain": [
       "array([[[0.53546023, 0.40614038, 0.28631161],\n",
       "        [0.62549331, 0.44119083, 0.28431684],\n",
       "        [0.53440396, 0.35965241, 0.21271279],\n",
       "        ...,\n",
       "        [0.49513035, 0.33122104, 0.20830437],\n",
       "        [0.36351917, 0.22731718, 0.1264287 ],\n",
       "        [0.33102429, 0.20553409, 0.11221302]],\n",
       "\n",
       "       [[0.30227027, 0.22608667, 0.14398696],\n",
       "        [0.51348303, 0.3201957 , 0.15699415],\n",
       "        [0.46762647, 0.33276128, 0.21989363],\n",
       "        ...,\n",
       "        [0.50784864, 0.42301408, 0.29675796],\n",
       "        [0.37555147, 0.32132353, 0.19871946],\n",
       "        [0.38694039, 0.30535338, 0.19315975]],\n",
       "\n",
       "       [[0.35959114, 0.31458501, 0.19491589],\n",
       "        [0.47530135, 0.33076986, 0.11710061],\n",
       "        [0.4706105 , 0.33624938, 0.18510192],\n",
       "        ...,\n",
       "        [0.39214849, 0.34901123, 0.23134742],\n",
       "        [0.36997549, 0.34641544, 0.25895613],\n",
       "        [0.33384914, 0.27122827, 0.14227606]],\n",
       "\n",
       "       ...,\n",
       "\n",
       "       [[0.97227328, 0.97257798, 0.92518215],\n",
       "        [0.97184987, 0.97978492, 0.89357168],\n",
       "        [0.98702656, 0.99386704, 0.91484519],\n",
       "        ...,\n",
       "        [0.94292567, 0.9311916 , 0.86440238],\n",
       "        [0.92300355, 0.91126948, 0.84441899],\n",
       "        [0.92147839, 0.91354334, 0.82343918]],\n",
       "\n",
       "       [[0.97216198, 0.97233456, 0.9323448 ],\n",
       "        [0.96059427, 0.9684374 , 0.88280317],\n",
       "        [0.95762868, 0.96384301, 0.88637647],\n",
       "        ...,\n",
       "        [0.93145943, 0.9236163 , 0.84126336],\n",
       "        [0.87674321, 0.86890007, 0.778704  ],\n",
       "        [0.90707721, 0.89923407, 0.81688113]],\n",
       "\n",
       "       [[0.97113971, 0.959375  , 0.90012255],\n",
       "        [0.94983868, 0.94199554, 0.84395632],\n",
       "        [0.97242815, 0.96458501, 0.87653354],\n",
       "        ...,\n",
       "        [0.95686275, 0.94901961, 0.86666667],\n",
       "        [0.9533701 , 0.94552696, 0.85533088],\n",
       "        [0.91726649, 0.92510962, 0.83883511]]])"
      ]
     },
     "execution_count": 13,
     "metadata": {},
     "output_type": "execute_result"
    }
   ],
   "source": [
    "dogtraindata[1]\n"
   ]
  },
  {
   "cell_type": "code",
   "execution_count": 14,
   "metadata": {},
   "outputs": [],
   "source": [
    "import numpy as np\n",
    "dogtraindatarray = np.array(dogtraindata)\n",
    "cattraindataarray = np.array(cattraindata)"
   ]
  },
  {
   "cell_type": "code",
   "execution_count": 15,
   "metadata": {},
   "outputs": [
    {
     "name": "stdout",
     "output_type": "stream",
     "text": [
      "10000\n",
      "(10000, 64, 64, 3)\n"
     ]
    }
   ],
   "source": [
    "print(len(dogtraindatarray))\n",
    "print(dogtraindatarray.shape)"
   ]
  },
  {
   "cell_type": "code",
   "execution_count": 16,
   "metadata": {},
   "outputs": [
    {
     "name": "stdout",
     "output_type": "stream",
     "text": [
      "10000\n",
      "(10000, 64, 64, 3)\n"
     ]
    }
   ],
   "source": [
    "print(len(cattraindataarray))\n",
    "print(cattraindataarray.shape)"
   ]
  },
  {
   "cell_type": "code",
   "execution_count": 17,
   "metadata": {},
   "outputs": [],
   "source": [
    "catYtrainarray = np.zeros((10000,1))\n",
    "dogYtrainarray = np.ones((10000,1))"
   ]
  },
  {
   "cell_type": "code",
   "execution_count": 18,
   "metadata": {},
   "outputs": [
    {
     "data": {
      "text/plain": [
       "array([0.])"
      ]
     },
     "execution_count": 18,
     "metadata": {},
     "output_type": "execute_result"
    }
   ],
   "source": [
    "catYtrainarray[1]"
   ]
  },
  {
   "cell_type": "markdown",
   "metadata": {},
   "source": [
    "### Concatenating the data creating x and Y train\n"
   ]
  },
  {
   "cell_type": "code",
   "execution_count": 19,
   "metadata": {},
   "outputs": [],
   "source": [
    "X_data = np.concatenate((dogtraindatarray,cattraindataarray))"
   ]
  },
  {
   "cell_type": "code",
   "execution_count": 20,
   "metadata": {},
   "outputs": [],
   "source": [
    "Y_data = np.concatenate((dogYtrainarray,catYtrainarray ))"
   ]
  },
  {
   "cell_type": "code",
   "execution_count": 21,
   "metadata": {},
   "outputs": [
    {
     "name": "stdout",
     "output_type": "stream",
     "text": [
      "20000\n",
      "(20000, 64, 64, 3)\n"
     ]
    }
   ],
   "source": [
    "print(len(X_data))\n",
    "print(X_data.shape)"
   ]
  },
  {
   "cell_type": "code",
   "execution_count": 22,
   "metadata": {},
   "outputs": [
    {
     "name": "stdout",
     "output_type": "stream",
     "text": [
      "20000\n",
      "(20000, 1)\n"
     ]
    }
   ],
   "source": [
    "print(len(Y_data))\n",
    "print(Y_data.shape)"
   ]
  },
  {
   "cell_type": "markdown",
   "metadata": {},
   "source": [
    "### Normalizing the data"
   ]
  },
  {
   "cell_type": "code",
   "execution_count": 23,
   "metadata": {},
   "outputs": [
    {
     "data": {
      "text/plain": [
       "<matplotlib.image.AxesImage at 0x7fcef406bbe0>"
      ]
     },
     "execution_count": 23,
     "metadata": {},
     "output_type": "execute_result"
    },
    {
     "data": {
      "image/png": "[encoded data removed]",
      "text/plain": [
       "<Figure size 432x288 with 1 Axes>"
      ]
     },
     "metadata": {
      "needs_background": "light"
     },
     "output_type": "display_data"
    }
   ],
   "source": [
    "plt.imshow(X_data[11000])"
   ]
  },
  {
   "cell_type": "code",
   "execution_count": 24,
   "metadata": {},
   "outputs": [
    {
     "data": {
      "text/plain": [
       "array([0.])"
      ]
     },
     "execution_count": 24,
     "metadata": {},
     "output_type": "execute_result"
    }
   ],
   "source": [
    "Y_data[11000]"
   ]
  },
  {
   "cell_type": "code",
   "execution_count": 25,
   "metadata": {},
   "outputs": [
    {
     "data": {
      "text/plain": [
       "<matplotlib.image.AxesImage at 0x7fceeed986d8>"
      ]
     },
     "execution_count": 25,
     "metadata": {},
     "output_type": "execute_result"
    },
    {
     "data": {
      "image/png": "[encoded data removed]",
      "text/plain": [
       "<Figure size 432x288 with 1 Axes>"
      ]
     },
     "metadata": {
      "needs_background": "light"
     },
     "output_type": "display_data"
    }
   ],
   "source": [
    "plt.imshow(X_data[1])"
   ]
  },
  {
   "cell_type": "code",
   "execution_count": 26,
   "metadata": {},
   "outputs": [
    {
     "data": {
      "text/plain": [
       "0.5215440277180642"
      ]
     },
     "execution_count": 26,
     "metadata": {},
     "output_type": "execute_result"
    }
   ],
   "source": [
    "X_data[1].mean()"
   ]
  },
  {
   "cell_type": "code",
   "execution_count": 27,
   "metadata": {},
   "outputs": [],
   "source": [
    "X_datamean = X_data.mean()\n",
    "a = (X_data - X_datamean)\n",
    "\n",
    "standardized_images_X_data = a \n"
   ]
  },
  {
   "cell_type": "code",
   "execution_count": 28,
   "metadata": {},
   "outputs": [
    {
     "name": "stdout",
     "output_type": "stream",
     "text": [
      "20000\n",
      "(20000, 64, 64, 3)\n"
     ]
    }
   ],
   "source": [
    "print(len(standardized_images_X_data))\n",
    "print(standardized_images_X_data.shape)"
   ]
  },
  {
   "cell_type": "code",
   "execution_count": 29,
   "metadata": {},
   "outputs": [
    {
     "data": {
      "text/plain": [
       "array([[[[-3.61606296e-03, -1.14592002e-02,  4.10836919e-02],\n",
       "         [ 1.12195393e-01,  1.08273825e-01,  1.38114511e-01],\n",
       "         [ 1.71938041e-01,  1.75859609e-01,  1.95467452e-01],\n",
       "         ...,\n",
       "         [ 1.43296516e-01,  1.51139653e-01,  1.98198476e-01],\n",
       "         [ 9.28099098e-02,  1.00653047e-01,  1.47711871e-01],\n",
       "         [ 7.07405547e-02,  7.85836919e-02,  1.25642515e-01]],\n",
       "\n",
       "        [[ 1.63314229e-02,  8.48828562e-03,  6.10311778e-02],\n",
       "         [ 1.18874315e-01,  1.14952746e-01,  1.44793433e-01],\n",
       "         [ 1.70804462e-01,  1.74726031e-01,  1.94333874e-01],\n",
       "         ...,\n",
       "         [ 1.51135344e-01,  1.58978482e-01,  2.06037305e-01],\n",
       "         [ 1.25989099e-01,  1.33832237e-01,  1.80891060e-01],\n",
       "         [ 9.23730895e-02,  1.00216227e-01,  1.47275050e-01]],\n",
       "\n",
       "        [[ 3.56022562e-02,  2.77591189e-02,  8.03020111e-02],\n",
       "         [ 1.19364511e-01,  1.15442942e-01,  1.45283629e-01],\n",
       "         [ 1.92592098e-01,  1.96513667e-01,  2.16121510e-01],\n",
       "         ...,\n",
       "         [ 1.65744767e-01,  1.73587905e-01,  2.20646728e-01],\n",
       "         [ 1.25951521e-01,  1.33794658e-01,  1.80853482e-01],\n",
       "         [ 1.12593678e-01,  1.20436815e-01,  1.67495639e-01]],\n",
       "\n",
       "        ...,\n",
       "\n",
       "        [[ 1.22479698e-01,  9.23850572e-02,  3.66216533e-01],\n",
       "         [-4.59869078e-02, -1.20741810e-01,  1.61760824e-02],\n",
       "         [-4.58406628e-02, -7.33007386e-02, -1.05419974e-02],\n",
       "         ...,\n",
       "         [-1.41608174e-01, -1.10174350e-01, -9.84402817e-02],\n",
       "         [-1.85256927e-01, -1.46041241e-01, -1.38198104e-01],\n",
       "         [-2.07727439e-01, -1.68511753e-01, -1.60668615e-01]],\n",
       "\n",
       "        [[-1.64078446e-01, -1.46324636e-01, -1.04634273e-01],\n",
       "         [-1.46636753e-01, -1.20870821e-01, -1.10246635e-01],\n",
       "         [-1.75212695e-01, -1.34299034e-01, -1.52182335e-01],\n",
       "         ...,\n",
       "         [-2.03215146e-01, -1.71781322e-01, -1.60047254e-01],\n",
       "         [-1.93639567e-01, -1.54423881e-01, -1.46580744e-01],\n",
       "         [-2.23803381e-01, -1.84587695e-01, -1.76744558e-01]],\n",
       "\n",
       "        [[-1.71163311e-01, -1.46867968e-01, -1.32744194e-01],\n",
       "         [-1.95984754e-01, -1.50549705e-01, -1.43472499e-01],\n",
       "         [-1.53145255e-01, -1.13898931e-01, -1.06055794e-01],\n",
       "         ...,\n",
       "         [-1.81707793e-01, -1.42522744e-01, -1.34587695e-01],\n",
       "         [-1.89550930e-01, -1.54256812e-01, -1.34648969e-01],\n",
       "         [-1.44381085e-01, -1.09086967e-01, -8.94791240e-02]]],\n",
       "\n",
       "\n",
       "       [[[ 8.16017009e-02, -4.77181520e-02, -1.67546919e-01],\n",
       "         [ 1.71634780e-01, -1.26676963e-02, -1.69541691e-01],\n",
       "         [ 8.05454337e-02, -9.42061173e-02, -2.41145743e-01],\n",
       "         ...,\n",
       "         [ 4.12718238e-02, -1.22637490e-01, -2.45554157e-01],\n",
       "         [-9.03393607e-02, -2.26541346e-01, -3.27429827e-01],\n",
       "         [-1.22834239e-01, -2.48324435e-01, -3.41645513e-01]],\n",
       "\n",
       "        [[-1.51588260e-01, -2.27771863e-01, -3.09871568e-01],\n",
       "         [ 5.96244969e-02, -1.33662833e-01, -2.96864378e-01],\n",
       "         [ 1.37679463e-02, -1.21097250e-01, -2.33964897e-01],\n",
       "         ...,\n",
       "         [ 5.39901143e-02, -3.08444445e-02, -1.57100572e-01],\n",
       "         [-7.83070575e-02, -1.32534999e-01, -2.55139070e-01],\n",
       "         [-6.69181367e-02, -1.48505147e-01, -2.60698774e-01]],\n",
       "\n",
       "        [[-9.42673919e-02, -1.39273519e-01, -2.58942637e-01],\n",
       "         [ 2.14428180e-02, -1.23088671e-01, -3.36757913e-01],\n",
       "         [ 1.67519671e-02, -1.17609150e-01, -2.68756611e-01],\n",
       "         ...,\n",
       "         [-6.17100427e-02, -1.04847298e-01, -2.22511111e-01],\n",
       "         [-8.38830379e-02, -1.07443087e-01, -1.94902397e-01],\n",
       "         [-1.20009388e-01, -1.82630261e-01, -3.11582467e-01]],\n",
       "\n",
       "        ...,\n",
       "\n",
       "        [[ 5.18414756e-01,  5.18719453e-01,  4.71323620e-01],\n",
       "         [ 5.17991340e-01,  5.25926389e-01,  4.39713153e-01],\n",
       "         [ 5.33168031e-01,  5.40008516e-01,  4.60986658e-01],\n",
       "         ...,\n",
       "         [ 4.89067138e-01,  4.77333070e-01,  4.10543854e-01],\n",
       "         [ 4.69145024e-01,  4.57410955e-01,  3.90560465e-01],\n",
       "         [ 4.67619863e-01,  4.59684814e-01,  3.69580647e-01]],\n",
       "\n",
       "        [[ 5.18303457e-01,  5.18476031e-01,  4.78486275e-01],\n",
       "         [ 5.06735739e-01,  5.14578876e-01,  4.28944637e-01],\n",
       "         [ 5.03770148e-01,  5.09984485e-01,  4.32517946e-01],\n",
       "         ...,\n",
       "         [ 4.77600906e-01,  4.69757769e-01,  3.87404828e-01],\n",
       "         [ 4.22884684e-01,  4.15041547e-01,  3.24845468e-01],\n",
       "         [ 4.53218678e-01,  4.45375541e-01,  3.63022599e-01]],\n",
       "\n",
       "        [[ 5.17281178e-01,  5.05516472e-01,  4.46264021e-01],\n",
       "         [ 4.95980148e-01,  4.88137010e-01,  3.90097795e-01],\n",
       "         [ 5.18569618e-01,  5.10726481e-01,  4.22675010e-01],\n",
       "         ...,\n",
       "         [ 5.03004217e-01,  4.95161080e-01,  4.12808139e-01],\n",
       "         [ 4.99511570e-01,  4.91668433e-01,  4.01472354e-01],\n",
       "         [ 4.63407959e-01,  4.71251096e-01,  3.84976586e-01]]],\n",
       "\n",
       "\n",
       "       [[[ 3.25784691e-01,  2.27132731e-01,  1.05104544e-01],\n",
       "         [ 1.93259894e-01,  1.77384291e-01,  1.45747017e-01],\n",
       "         [ 1.23297329e-01,  2.04976251e-01,  2.91944168e-01],\n",
       "         ...,\n",
       "         [ 2.97959123e-01,  2.23449319e-01,  9.70206175e-02],\n",
       "         [ 2.00639643e-01,  1.22208271e-01, -1.59657489e-02],\n",
       "         [ 2.62429242e-01,  1.87485011e-01,  2.29239378e-02]],\n",
       "\n",
       "        [[ 1.81863793e-01,  8.71334009e-02, -5.57642611e-02],\n",
       "         [ 6.77333166e-02,  5.58295463e-02,  3.38095948e-03],\n",
       "         [ 1.64431913e-01,  2.50032403e-01,  3.11800221e-01],\n",
       "         ...,\n",
       "         [ 2.99178150e-01,  2.28589915e-01,  8.48461383e-02],\n",
       "         [ 2.96433723e-01,  2.25845487e-01,  7.47707898e-02],\n",
       "         [ 2.64776822e-01,  1.90910400e-01,  2.74912823e-02]],\n",
       "\n",
       "        [[ 1.53988918e-01,  6.31800940e-02, -9.79105923e-02],\n",
       "         [ 4.64600515e-02,  3.49404436e-02, -2.93977917e-02],\n",
       "         [ 1.92519813e-01,  2.78886235e-01,  3.26128882e-01],\n",
       "         ...,\n",
       "         [ 2.83279330e-01,  2.09535457e-01,  5.30915810e-02],\n",
       "         [ 2.83196992e-01,  2.12860078e-01,  6.59850783e-02],\n",
       "         [ 1.52056856e-01,  9.14144786e-02, -4.86059144e-02]],\n",
       "\n",
       "        ...,\n",
       "\n",
       "        [[ 2.44682133e-01,  2.17231153e-01,  1.93701741e-01],\n",
       "         [ 2.35418433e-01,  2.07967452e-01,  1.84438041e-01],\n",
       "         [ 2.48102256e-01,  2.20651276e-01,  1.97121864e-01],\n",
       "         ...,\n",
       "         [ 3.42317799e-01,  3.45371472e-01,  2.96019880e-01],\n",
       "         [ 3.27632022e-01,  2.99261924e-01,  2.60505797e-01],\n",
       "         [ 3.22586449e-01,  2.86261915e-01,  2.50967797e-01]],\n",
       "\n",
       "        [[ 2.40309383e-01,  2.12858403e-01,  1.89328991e-01],\n",
       "         [ 2.45069168e-01,  2.17618188e-01,  1.94088776e-01],\n",
       "         [ 2.66175125e-01,  2.38724145e-01,  2.15194733e-01],\n",
       "         ...,\n",
       "         [ 3.64520713e-01,  3.44912870e-01,  3.21383458e-01],\n",
       "         [ 3.78616962e-01,  3.59009119e-01,  3.35479707e-01],\n",
       "         [ 3.76185609e-01,  3.56577766e-01,  3.33048354e-01]],\n",
       "\n",
       "        [[ 2.63780153e-01,  2.43743389e-01,  2.27628193e-01],\n",
       "         [ 2.53561193e-01,  2.33524428e-01,  2.17409232e-01],\n",
       "         [ 2.37746864e-01,  2.17710099e-01,  2.01594903e-01],\n",
       "         ...,\n",
       "         [ 3.68698630e-01,  3.49090786e-01,  3.25561375e-01],\n",
       "         [ 3.90142075e-01,  3.70534232e-01,  3.47004820e-01],\n",
       "         [ 4.12003193e-01,  3.92395349e-01,  3.68865938e-01]]],\n",
       "\n",
       "\n",
       "       ...,\n",
       "\n",
       "\n",
       "       [[[ 4.10540982e-01,  4.18384119e-01,  4.14462550e-01],\n",
       "         [ 4.12808139e-01,  4.20651276e-01,  4.16729707e-01],\n",
       "         [ 4.12808139e-01,  4.20651276e-01,  4.16729707e-01],\n",
       "         ...,\n",
       "         [ 4.35856928e-01,  4.43577517e-01,  4.40023595e-01],\n",
       "         [ 4.10027808e-01,  4.17870945e-01,  4.13949376e-01],\n",
       "         [ 4.04354171e-01,  4.14525740e-01,  3.89284471e-01]],\n",
       "\n",
       "        [[ 4.12808139e-01,  4.20651276e-01,  4.16729707e-01],\n",
       "         [ 4.12808139e-01,  4.20651276e-01,  4.16729707e-01],\n",
       "         [ 4.12808139e-01,  4.20651276e-01,  4.16729707e-01],\n",
       "         ...,\n",
       "         [ 4.20528727e-01,  4.28249315e-01,  4.24695393e-01],\n",
       "         [ 4.17587550e-01,  4.25430688e-01,  4.21509119e-01],\n",
       "         [ 4.16729707e-01,  4.24572844e-01,  4.17231392e-01]],\n",
       "\n",
       "        [[ 4.12808139e-01,  4.20651276e-01,  4.16729707e-01],\n",
       "         [ 4.12808139e-01,  4.20651276e-01,  4.16729707e-01],\n",
       "         [ 4.12808139e-01,  4.20651276e-01,  4.16729707e-01],\n",
       "         ...,\n",
       "         [ 4.12930688e-01,  4.20651276e-01,  4.17097354e-01],\n",
       "         [ 4.09744413e-01,  4.17587550e-01,  4.13665982e-01],\n",
       "         [ 4.08886570e-01,  4.14401276e-01,  4.22376536e-01]],\n",
       "\n",
       "        ...,\n",
       "\n",
       "        [[-4.00069083e-01, -4.00069083e-01, -4.00926926e-01],\n",
       "         [-4.04928917e-01, -4.04928917e-01, -4.04071074e-01],\n",
       "         [-4.05928458e-01, -4.05499536e-01, -4.04641693e-01],\n",
       "         ...,\n",
       "         [-1.90096656e-01, -1.66274276e-01, -1.80918884e-01],\n",
       "         [-1.19889472e-01, -1.08896442e-01, -1.20567321e-01],\n",
       "         [-2.31868063e-02, -2.29321341e-02, -2.52605655e-02]],\n",
       "\n",
       "        [[-3.49280173e-01, -3.53201742e-01, -3.33593899e-01],\n",
       "         [-3.99017842e-01, -3.95096273e-01, -4.14704116e-01],\n",
       "         [-3.93196763e-01, -4.08883038e-01, -4.18564410e-01],\n",
       "         ...,\n",
       "         [-3.77560274e-01, -3.66844895e-01, -3.78825976e-01],\n",
       "         [-3.33898357e-01, -3.36148280e-01, -3.43991417e-01],\n",
       "         [-3.22912986e-01, -3.36270829e-01, -3.49506123e-01]],\n",
       "\n",
       "        [[-3.76773280e-01, -4.00302692e-01, -3.92459554e-01],\n",
       "         [-4.03490881e-01, -4.23098724e-01, -4.35721273e-01],\n",
       "         [-4.13059279e-01, -4.13059279e-01, -4.44431828e-01],\n",
       "         ...,\n",
       "         [-2.81677156e-01, -2.85353626e-01, -2.61946763e-01],\n",
       "         [-3.08293271e-01, -3.12214839e-01, -2.88685428e-01],\n",
       "         [-3.38409692e-01, -3.35345967e-01, -3.34737051e-01]]],\n",
       "\n",
       "\n",
       "       [[[ 2.26782556e-01,  2.22860988e-01,  2.44797262e-01],\n",
       "         [ 2.25848120e-01,  2.25848120e-01,  2.25848120e-01],\n",
       "         [ 2.14340001e-01,  2.14340001e-01,  2.14340001e-01],\n",
       "         ...,\n",
       "         [-4.20421219e-02, -3.02774160e-02, -2.82643559e-03],\n",
       "         [-2.54769411e-02, -1.37122352e-02,  1.37387452e-02],\n",
       "         [-3.27207371e-02, -2.89236323e-02,  8.55779488e-04]],\n",
       "\n",
       "        [[ 2.51288531e-01,  2.47366962e-01,  2.69303237e-01],\n",
       "         [ 2.33518923e-01,  2.33518923e-01,  2.33518923e-01],\n",
       "         [ 2.39282556e-01,  2.39282556e-01,  2.39282556e-01],\n",
       "         ...,\n",
       "         [-3.02965643e-02, -1.85318584e-02,  8.91912201e-03],\n",
       "         [-3.11869595e-02, -1.94222536e-02,  8.02872679e-03],\n",
       "         [-2.55554491e-02, -2.65243523e-02,  4.96500130e-03]],\n",
       "\n",
       "        [[ 2.52919965e-01,  2.48998396e-01,  2.70934670e-01],\n",
       "         [ 2.13665982e-01,  2.13665982e-01,  2.13665982e-01],\n",
       "         [ 2.33199147e-01,  2.33199147e-01,  2.33199147e-01],\n",
       "         ...,\n",
       "         [-2.23500263e-02, -1.05853204e-02,  1.68656600e-02],\n",
       "         [-2.94712732e-02, -1.77065673e-02,  9.74441307e-03],\n",
       "         [-4.84759454e-02, -2.22313069e-02,  3.08138557e-04]],\n",
       "\n",
       "        ...,\n",
       "\n",
       "        [[ 2.45825525e-01,  2.41903957e-01,  2.65433368e-01],\n",
       "         [ 3.06067942e-01,  3.02146374e-01,  3.25675786e-01],\n",
       "         [ 3.14156178e-01,  3.25702593e-01,  3.45310436e-01],\n",
       "         ...,\n",
       "         [ 1.34782710e-01,  4.26737176e-02,  9.18675748e-02],\n",
       "         [ 4.04116732e-01,  3.09235069e-01,  1.38307909e-01],\n",
       "         [ 5.42874775e-01,  4.76462780e-01,  3.86789450e-01]],\n",
       "\n",
       "        [[ 3.73280335e-01,  3.69358767e-01,  3.92888178e-01],\n",
       "         [ 3.27268923e-01,  3.23347354e-01,  3.46876766e-01],\n",
       "         [ 3.38053237e-01,  3.38053237e-01,  3.45896374e-01],\n",
       "         ...,\n",
       "         [ 5.07249392e-01,  4.49245409e-01,  4.03435053e-01],\n",
       "         [ 3.12185819e-01,  1.83001919e-01,  1.18050939e-01],\n",
       "         [ 5.02368494e-01,  4.17681377e-01,  2.86414143e-01]],\n",
       "\n",
       "        [[ 3.47857158e-01,  3.43935590e-01,  3.67465001e-01],\n",
       "         [ 3.48458414e-01,  3.44536846e-01,  3.68066257e-01],\n",
       "         [ 3.43770914e-01,  3.08599346e-01,  3.12153267e-01],\n",
       "         ...,\n",
       "         [ 3.84148901e-01,  3.01112366e-01,  2.25725571e-01],\n",
       "         [ 4.33061279e-01,  3.17129906e-01,  2.16884808e-01],\n",
       "         [ 4.87800479e-01,  3.71501460e-01,  2.60345669e-01]]],\n",
       "\n",
       "\n",
       "       [[[-2.46628136e-01, -3.19299705e-01, -3.43748234e-01],\n",
       "         [-2.62620783e-01, -3.35292352e-01, -3.59740881e-01],\n",
       "         [-2.45892842e-01, -3.19368638e-01, -3.43415054e-01],\n",
       "         ...,\n",
       "         [-2.78938951e-01, -3.38926696e-01, -3.98669343e-01],\n",
       "         [-2.45582640e-01, -3.05570385e-01, -3.65313032e-01],\n",
       "         [-2.64501145e-01, -3.28165360e-01, -3.87908007e-01]],\n",
       "\n",
       "        [[-2.29528718e-01, -3.39332640e-01, -3.51097346e-01],\n",
       "         [-2.30329116e-01, -3.40133038e-01, -3.51897744e-01],\n",
       "         [-2.39416892e-01, -3.42358069e-01, -3.55838461e-01],\n",
       "         ...,\n",
       "         [-2.60962542e-01, -3.35472346e-01, -3.90374306e-01],\n",
       "         [-2.87743332e-01, -3.62253136e-01, -4.17155097e-01],\n",
       "         [-3.10962542e-01, -3.78793424e-01, -4.20337542e-01]],\n",
       "\n",
       "        [[-2.25059509e-01, -3.27142842e-01, -3.44728626e-01],\n",
       "         [-2.11395293e-01, -3.32963920e-01, -3.44054607e-01],\n",
       "         [-2.12241647e-01, -3.37521212e-01, -3.47374919e-01],\n",
       "         ...,\n",
       "         [-2.87593975e-01, -3.64125838e-01, -4.18353779e-01],\n",
       "         [-2.64443700e-01, -3.40975562e-01, -3.95203504e-01],\n",
       "         [-2.65875991e-01, -3.61341678e-01, -4.03927462e-01]],\n",
       "\n",
       "        ...,\n",
       "\n",
       "        [[ 5.52369069e-02, -4.21282891e-02, -1.29750838e-01],\n",
       "         [ 7.06742538e-02, -2.66909423e-02, -1.14313491e-01],\n",
       "         [ 3.93629792e-02, -5.65814141e-02, -1.50476941e-01],\n",
       "         ...,\n",
       "         [ 1.27663378e-01,  5.70751422e-02, -2.91993676e-02],\n",
       "         [ 8.29674523e-02,  1.23792170e-02, -7.38952928e-02],\n",
       "         [ 5.61560246e-02, -1.11846617e-02, -1.11797407e-01]],\n",
       "\n",
       "        [[ 2.83795234e-02, -6.18165551e-02, -1.87306751e-01],\n",
       "         [ 1.79207305e-02, -7.22753480e-02, -1.97765544e-01],\n",
       "         [ 1.97168395e-02, -6.63508688e-02, -1.78115575e-01],\n",
       "         ...,\n",
       "         [ 5.05877035e-02, -2.00005318e-02, -1.06275042e-01],\n",
       "         [ 6.61552587e-02, -4.43297664e-03, -9.07074864e-02],\n",
       "         [ 3.79306876e-02, -3.26575477e-02, -1.18932058e-01]],\n",
       "\n",
       "        [[ 4.18790638e-02, -5.61601519e-02, -1.42434662e-01],\n",
       "         [ 5.19548910e-02, -4.60843247e-02, -1.32358834e-01],\n",
       "         [ 7.24205773e-02, -1.36088345e-02, -9.98833443e-02],\n",
       "         ...,\n",
       "         [ 8.12670846e-02,  1.06788493e-02, -7.55956605e-02],\n",
       "         [ 9.93966802e-02,  2.88084449e-02, -5.74660649e-02],\n",
       "         [ 6.80968947e-02, -6.41290924e-03, -7.30795759e-02]]]])"
      ]
     },
     "execution_count": 29,
     "metadata": {},
     "output_type": "execute_result"
    }
   ],
   "source": [
    "standardized_images_X_data"
   ]
  },
  {
   "cell_type": "code",
   "execution_count": 30,
   "metadata": {},
   "outputs": [
    {
     "name": "stderr",
     "output_type": "stream",
     "text": [
      "Clipping input data to the valid range for imshow with RGB data ([0..1] for floats or [0..255] for integers).\n"
     ]
    },
    {
     "data": {
      "text/plain": [
       "<matplotlib.image.AxesImage at 0x7fceeed082b0>"
      ]
     },
     "execution_count": 30,
     "metadata": {},
     "output_type": "execute_result"
    },
    {
     "data": {
      "image/png": "[encoded data removed]",
      "text/plain": [
       "<Figure size 432x288 with 1 Axes>"
      ]
     },
     "metadata": {
      "needs_background": "light"
     },
     "output_type": "display_data"
    }
   ],
   "source": [
    "plt.imshow(standardized_images_X_data[14000])"
   ]
  },
  {
   "cell_type": "markdown",
   "metadata": {},
   "source": [
    "### Shuffling the data"
   ]
  },
  {
   "cell_type": "code",
   "execution_count": 31,
   "metadata": {},
   "outputs": [],
   "source": [
    "np.random.seed(42)\n",
    "np.random.shuffle(standardized_images_X_data)\n",
    "np.random.seed(42)\n",
    "np.random.shuffle(Y_data)"
   ]
  },
  {
   "cell_type": "markdown",
   "metadata": {},
   "source": [
    "### Proving the shuffle works"
   ]
  },
  {
   "cell_type": "code",
   "execution_count": 32,
   "metadata": {},
   "outputs": [
    {
     "name": "stderr",
     "output_type": "stream",
     "text": [
      "Clipping input data to the valid range for imshow with RGB data ([0..1] for floats or [0..255] for integers).\n"
     ]
    },
    {
     "data": {
      "text/plain": [
       "<matplotlib.image.AxesImage at 0x7fceeece0cc0>"
      ]
     },
     "execution_count": 32,
     "metadata": {},
     "output_type": "execute_result"
    },
    {
     "data": {
      "image/png": "[encoded data removed]",
      "text/plain": [
       "<Figure size 432x288 with 1 Axes>"
      ]
     },
     "metadata": {
      "needs_background": "light"
     },
     "output_type": "display_data"
    }
   ],
   "source": [
    "plt.imshow(standardized_images_X_data[700])"
   ]
  },
  {
   "cell_type": "code",
   "execution_count": 33,
   "metadata": {},
   "outputs": [
    {
     "data": {
      "text/plain": [
       "array([0.])"
      ]
     },
     "execution_count": 33,
     "metadata": {},
     "output_type": "execute_result"
    }
   ],
   "source": [
    "Y_data[700]"
   ]
  },
  {
   "cell_type": "markdown",
   "metadata": {},
   "source": [
    "##  Separating in training and test"
   ]
  },
  {
   "cell_type": "code",
   "execution_count": 34,
   "metadata": {},
   "outputs": [],
   "source": [
    ">>> import numpy as np\n",
    ">>> from sklearn.model_selection import train_test_split\n",
    "\n",
    "X_train, X_test, Y_train, Y_test = train_test_split(\n",
    "    standardized_images_X_data, Y_data, test_size=0.3, random_state=42)"
   ]
  },
  {
   "cell_type": "markdown",
   "metadata": {},
   "source": [
    "If everything has been properly loaded both X_train and Y_train lists should have equal length, and the same should happen for the pair X_test and Y_test."
   ]
  },
  {
   "cell_type": "code",
   "execution_count": 35,
   "metadata": {},
   "outputs": [
    {
     "name": "stdout",
     "output_type": "stream",
     "text": [
      "X_train size 14000\n",
      "Y_train size 14000\n",
      "X_test size 6000\n",
      "Y_test size 6000\n"
     ]
    }
   ],
   "source": [
    "print(\"X_train size\", len(X_train))\n",
    "print(\"Y_train size\", len(Y_train))\n",
    "print(\"X_test size\", len(X_test))\n",
    "print(\"Y_test size\", len(Y_test))"
   ]
  },
  {
   "cell_type": "markdown",
   "metadata": {},
   "source": [
    "## Basic deep model"
   ]
  },
  {
   "cell_type": "markdown",
   "metadata": {},
   "source": [
    "# Defining the  network architecture:\n",
    "We are going to use  the basic LeNet-5 architecture, we are goin to stard by adding two colums of padding to the images, one layer of convolution for with a kernel size of 12 x 12 x 6 , ( the image that we want to recognize is of entire animals, some times, they correspond to the entirety of the picture, ,makes sense because of this tu use big sized kernels. \n"
   ]
  },
  {
   "cell_type": "code",
   "execution_count": 1,
   "metadata": {},
   "outputs": [],
   "source": [
    "def calc_layer_output_shape_in_convolution(Nsize_of_the_original,N_channel_of_the_input,Nsizeof_kernel,numberofkernels = 1,\n",
    "                            stridecols = 1, paddingval = 0):\n",
    "    \n",
    "    Nsize_of_resulting = int(((Nsize_of_the_original + (2*paddingval) - Nsizeof_kernel)/stridecols) + 1)\n",
    "    print(\"resulting layer is \" +  str(Nsize_of_resulting) + \"x\" + str(Nsize_of_resulting) +\"x\" + str(numberofkernels))\n",
    "    \n",
    "def calc_layer_output_shape_in_pooling(Nsize_of_the_original,N_channel_of_the_input,Nsizeof_pooling,\n",
    "                            stridecols = 1):\n",
    "    Nsize_of_resulting = int(Nsize_of_the_original /Nsizeof_pooling)\n",
    "    print(\"resulting layer is \" +  str(Nsize_of_resulting) + \"x\" + str(Nsize_of_resulting) +\"x\" + str(N_channel_of_the_input))\n",
    "    \n",
    "    \n",
    "\n",
    "    \n",
    "    \n",
    "\n",
    "\n"
   ]
  },
  {
   "cell_type": "code",
   "execution_count": null,
   "metadata": {},
   "outputs": [],
   "source": [
    "calc_layer_output_shape_in_convolution(Nsize_of_the_original = 150,\n",
    "                        N_channel_of_the_input= 3 ,\n",
    "                        Nsizeof_kernel= 9,\n",
    "                        numberofkernels = 8,\n",
    "                        stridecols = 1,\n",
    "                        paddingval = 3)"
   ]
  },
  {
   "cell_type": "code",
   "execution_count": 37,
   "metadata": {},
   "outputs": [
    {
     "name": "stdout",
     "output_type": "stream",
     "text": [
      "resulting layer is 62x62x8\n"
     ]
    }
   ],
   "source": [
    "calc_layer_output_shape_in_convolution(Nsize_of_the_original = 64,\n",
    "                        N_channel_of_the_input= 3 ,\n",
    "                        Nsizeof_kernel= 9,\n",
    "                        numberofkernels = 8,\n",
    "                        stridecols = 1,\n",
    "                        paddingval = 3)\n",
    "\n",
    "\n",
    "\n",
    "\n",
    "\n",
    "\n"
   ]
  },
  {
   "cell_type": "code",
   "execution_count": 38,
   "metadata": {},
   "outputs": [
    {
     "name": "stdout",
     "output_type": "stream",
     "text": [
      "resulting layer is 31x31x8\n"
     ]
    }
   ],
   "source": [
    "calc_layer_output_shape_in_pooling(Nsize_of_the_original= 62,N_channel_of_the_input=8 ,Nsizeof_pooling = 2 ,\n",
    "                            stridecols = 1)"
   ]
  },
  {
   "cell_type": "code",
   "execution_count": 39,
   "metadata": {},
   "outputs": [
    {
     "name": "stdout",
     "output_type": "stream",
     "text": [
      "resulting layer is 25x25x16\n"
     ]
    }
   ],
   "source": [
    "calc_layer_output_shape_in_convolution(Nsize_of_the_original = 31,\n",
    "                        N_channel_of_the_input= 8 ,\n",
    "                        Nsizeof_kernel= 7,\n",
    "                        numberofkernels = 16,\n",
    "                        stridecols = 1,\n",
    "                        paddingval = 0)"
   ]
  },
  {
   "cell_type": "code",
   "execution_count": 40,
   "metadata": {},
   "outputs": [
    {
     "name": "stdout",
     "output_type": "stream",
     "text": [
      "resulting layer is 12x12x16\n"
     ]
    }
   ],
   "source": [
    "calc_layer_output_shape_in_pooling(Nsize_of_the_original= 25,N_channel_of_the_input=16 ,Nsizeof_pooling = 2 ,\n",
    "                            stridecols = 1)"
   ]
  },
  {
   "cell_type": "code",
   "execution_count": 41,
   "metadata": {},
   "outputs": [
    {
     "name": "stdout",
     "output_type": "stream",
     "text": [
      "resulting layer is 10x10x64\n"
     ]
    }
   ],
   "source": [
    "calc_layer_output_shape_in_convolution(Nsize_of_the_original = 12,\n",
    "                        N_channel_of_the_input= 16 ,\n",
    "                        Nsizeof_kernel= 3,\n",
    "                        numberofkernels = 64,\n",
    "                        stridecols = 1,\n",
    "                        paddingval = 0)"
   ]
  },
  {
   "cell_type": "code",
   "execution_count": 42,
   "metadata": {},
   "outputs": [
    {
     "name": "stdout",
     "output_type": "stream",
     "text": [
      "resulting layer is 5x5x64\n"
     ]
    }
   ],
   "source": [
    "calc_layer_output_shape_in_pooling(Nsize_of_the_original= 10,N_channel_of_the_input=64 ,Nsizeof_pooling = 2 ,\n",
    "                            stridecols = 1)"
   ]
  },
  {
   "cell_type": "code",
   "execution_count": 43,
   "metadata": {},
   "outputs": [
    {
     "name": "stdout",
     "output_type": "stream",
     "text": [
      "resulting layer is 3x3x214\n"
     ]
    }
   ],
   "source": [
    "calc_layer_output_shape_in_convolution(Nsize_of_the_original = 5,\n",
    "                        N_channel_of_the_input= 5,\n",
    "                        Nsizeof_kernel= 3,\n",
    "                        numberofkernels = 214,\n",
    "                        stridecols = 1,\n",
    "                        paddingval = 0)"
   ]
  },
  {
   "cell_type": "code",
   "execution_count": 44,
   "metadata": {},
   "outputs": [
    {
     "name": "stdout",
     "output_type": "stream",
     "text": [
      "resulting layer is 1x1x214\n"
     ]
    }
   ],
   "source": [
    "calc_layer_output_shape_in_convolution(Nsize_of_the_original = 3,\n",
    "                        N_channel_of_the_input= 5,\n",
    "                        Nsizeof_kernel= 3,\n",
    "                        numberofkernels = 214,\n",
    "                        stridecols = 1,\n",
    "                        paddingval = 0)"
   ]
  },
  {
   "cell_type": "markdown",
   "metadata": {},
   "source": [
    "### Implementing the neural network "
   ]
  },
  {
   "cell_type": "code",
   "execution_count": 56,
   "metadata": {},
   "outputs": [],
   "source": [
    "from keras.models import Sequential\n",
    "from keras.layers.core import Dense\n",
    "from keras.layers.core import Activation\n",
    "from keras.layers.core import Dropout\n",
    "from keras.layers.core import Flatten\n",
    "\n",
    "\n",
    "deepcatvsdognn_1= Sequential()\n"
   ]
  },
  {
   "cell_type": "code",
   "execution_count": 57,
   "metadata": {},
   "outputs": [],
   "source": [
    "from keras.layers.convolutional import Conv2D, MaxPooling2D\n",
    "deepcatvsdognn_1.add(Conv2D(filters = 8, kernel_size = 9, strides=2, activation = None))\n",
    "\n",
    "deepcatvsdognn_1.add(Activation('relu'))\n",
    "deepcatvsdognn_1.add(MaxPooling2D(pool_size=(2, 2), strides=(2, 2), data_format='channels_last'))\n",
    "deepcatvsdognn_1.add(Dropout(0.3))\n",
    "\n",
    "\n"
   ]
  },
  {
   "cell_type": "code",
   "execution_count": 58,
   "metadata": {},
   "outputs": [],
   "source": [
    "deepcatvsdognn_1.add(Conv2D(filters = 16, kernel_size = 7, strides=1, activation = None))\n",
    "\n",
    "deepcatvsdognn_1.add(Activation('relu'))\n",
    "deepcatvsdognn_1.add(MaxPooling2D(pool_size=(2, 2), strides=1, data_format='channels_last'))\n",
    "deepcatvsdognn_1.add(Dropout(0.3))\n"
   ]
  },
  {
   "cell_type": "code",
   "execution_count": 59,
   "metadata": {},
   "outputs": [],
   "source": [
    "deepcatvsdognn_1.add(Conv2D(filters = 64, kernel_size = 3, strides=1, activation = None))\n",
    "\n",
    "deepcatvsdognn_1.add(Activation('relu'))\n",
    "deepcatvsdognn_1.add(MaxPooling2D(pool_size=(2, 2), strides=1, data_format='channels_last'))\n",
    "deepcatvsdognn_1.add(Dropout(0.3))\n"
   ]
  },
  {
   "cell_type": "code",
   "execution_count": 60,
   "metadata": {},
   "outputs": [],
   "source": [
    "deepcatvsdognn_1.add(Conv2D(filters = 250, kernel_size = 3, strides=1, activation = None))"
   ]
  },
  {
   "cell_type": "code",
   "execution_count": 61,
   "metadata": {},
   "outputs": [],
   "source": [
    "deepcatvsdognn_1.add(Flatten())\n",
    "deepcatvsdognn_1.add(Dense(250))\n",
    "deepcatvsdognn_1.add(Activation('relu'))"
   ]
  },
  {
   "cell_type": "code",
   "execution_count": 62,
   "metadata": {},
   "outputs": [],
   "source": [
    "\n",
    "deepcatvsdognn_1.add(Dense(1))\n",
    "deepcatvsdognn_1.add(Activation('tanh'))"
   ]
  },
  {
   "cell_type": "markdown",
   "metadata": {},
   "source": [
    "## Training the neural network "
   ]
  },
  {
   "cell_type": "code",
   "execution_count": 63,
   "metadata": {},
   "outputs": [],
   "source": [
    "deepcatvsdognn_1.compile(loss='binary_crossentropy', optimizer='adam', metrics=[\"accuracy\"])"
   ]
  },
  {
   "cell_type": "code",
   "execution_count": 64,
   "metadata": {},
   "outputs": [
    {
     "name": "stdout",
     "output_type": "stream",
     "text": [
      "Epoch 1/60\n",
      " - 6s - loss: 0.8765 - acc: 0.5386\n",
      "Epoch 2/60\n",
      " - 4s - loss: 0.6704 - acc: 0.5859\n",
      "Epoch 3/60\n",
      " - 5s - loss: 0.6629 - acc: 0.6002\n",
      "Epoch 4/60\n",
      " - 5s - loss: 0.6569 - acc: 0.6113\n",
      "Epoch 5/60\n",
      " - 5s - loss: 0.6535 - acc: 0.6166\n",
      "Epoch 6/60\n",
      " - 5s - loss: 0.6489 - acc: 0.6276\n",
      "Epoch 7/60\n",
      " - 5s - loss: 0.6399 - acc: 0.6354\n",
      "Epoch 8/60\n",
      " - 4s - loss: 0.6343 - acc: 0.6422\n",
      "Epoch 9/60\n",
      " - 5s - loss: 0.6250 - acc: 0.6525\n",
      "Epoch 10/60\n",
      " - 5s - loss: 0.6235 - acc: 0.6564\n",
      "Epoch 11/60\n",
      " - 5s - loss: 0.6142 - acc: 0.6648\n",
      "Epoch 12/60\n",
      " - 5s - loss: 0.6070 - acc: 0.6709\n",
      "Epoch 13/60\n",
      " - 5s - loss: 0.6022 - acc: 0.6781\n",
      "Epoch 14/60\n",
      " - 5s - loss: 0.5962 - acc: 0.6851\n",
      "Epoch 15/60\n",
      " - 5s - loss: 0.5917 - acc: 0.6864\n",
      "Epoch 16/60\n",
      " - 5s - loss: 0.5930 - acc: 0.6844\n",
      "Epoch 17/60\n",
      " - 5s - loss: 0.5859 - acc: 0.6889\n",
      "Epoch 18/60\n",
      " - 5s - loss: 0.5843 - acc: 0.6947\n",
      "Epoch 19/60\n",
      " - 5s - loss: 0.5769 - acc: 0.6999\n",
      "Epoch 20/60\n",
      " - 5s - loss: 0.5703 - acc: 0.7063\n",
      "Epoch 21/60\n",
      " - 5s - loss: 0.5691 - acc: 0.7017\n",
      "Epoch 22/60\n",
      " - 5s - loss: 0.5622 - acc: 0.7118\n",
      "Epoch 23/60\n",
      " - 5s - loss: 0.5656 - acc: 0.7101\n",
      "Epoch 24/60\n",
      " - 5s - loss: 0.5617 - acc: 0.7121\n",
      "Epoch 25/60\n",
      " - 5s - loss: 0.5556 - acc: 0.7148\n",
      "Epoch 26/60\n",
      " - 5s - loss: 0.5495 - acc: 0.7234\n",
      "Epoch 27/60\n",
      " - 4s - loss: 0.5483 - acc: 0.7237\n",
      "Epoch 28/60\n",
      " - 5s - loss: 0.5491 - acc: 0.7244\n",
      "Epoch 29/60\n",
      " - 5s - loss: 0.5416 - acc: 0.7320\n",
      "Epoch 30/60\n",
      " - 5s - loss: 0.5339 - acc: 0.7335\n",
      "Epoch 31/60\n",
      " - 6s - loss: 0.5632 - acc: 0.7154\n",
      "Epoch 32/60\n",
      " - 5s - loss: 0.5589 - acc: 0.7142\n",
      "Epoch 33/60\n",
      " - 5s - loss: 0.5430 - acc: 0.7262\n",
      "Epoch 34/60\n",
      " - 5s - loss: 0.5379 - acc: 0.7297\n",
      "Epoch 35/60\n",
      " - 5s - loss: 0.5387 - acc: 0.7315\n",
      "Epoch 36/60\n",
      " - 5s - loss: 0.5301 - acc: 0.7359\n",
      "Epoch 37/60\n",
      " - 6s - loss: 0.5234 - acc: 0.7441\n",
      "Epoch 38/60\n",
      " - 5s - loss: 0.5240 - acc: 0.7435\n",
      "Epoch 39/60\n",
      " - 5s - loss: 0.5209 - acc: 0.7414\n",
      "Epoch 40/60\n",
      " - 5s - loss: 0.5138 - acc: 0.7461\n",
      "Epoch 41/60\n",
      " - 5s - loss: 0.5164 - acc: 0.7431\n",
      "Epoch 42/60\n",
      " - 5s - loss: 0.5064 - acc: 0.7533\n",
      "Epoch 43/60\n",
      " - 5s - loss: 0.5078 - acc: 0.7503\n",
      "Epoch 44/60\n",
      " - 5s - loss: 0.5056 - acc: 0.7499\n",
      "Epoch 45/60\n",
      " - 5s - loss: 0.5062 - acc: 0.7589\n",
      "Epoch 46/60\n",
      " - 5s - loss: 0.5036 - acc: 0.7571\n",
      "Epoch 47/60\n",
      " - 5s - loss: 0.4982 - acc: 0.7553\n",
      "Epoch 48/60\n",
      " - 5s - loss: 0.4938 - acc: 0.7584\n",
      "Epoch 49/60\n",
      " - 5s - loss: 0.4996 - acc: 0.7580\n",
      "Epoch 50/60\n",
      " - 5s - loss: 0.4942 - acc: 0.7613\n",
      "Epoch 51/60\n",
      " - 5s - loss: 0.4867 - acc: 0.7658\n",
      "Epoch 52/60\n",
      " - 5s - loss: 0.4913 - acc: 0.7641\n",
      "Epoch 53/60\n",
      " - 5s - loss: 0.4910 - acc: 0.7583\n",
      "Epoch 54/60\n",
      " - 5s - loss: 0.4879 - acc: 0.7624\n",
      "Epoch 55/60\n",
      " - 6s - loss: 0.4814 - acc: 0.7675\n",
      "Epoch 56/60\n",
      " - 5s - loss: 0.4737 - acc: 0.7741\n",
      "Epoch 57/60\n",
      " - 5s - loss: 0.4801 - acc: 0.7677\n",
      "Epoch 58/60\n",
      " - 5s - loss: 0.4800 - acc: 0.7706\n",
      "Epoch 59/60\n",
      " - 5s - loss: 0.4742 - acc: 0.7716\n",
      "Epoch 60/60\n",
      " - 5s - loss: 0.4864 - acc: 0.7660\n"
     ]
    },
    {
     "data": {
      "text/plain": [
       "<keras.callbacks.History at 0x7fcce866fe48>"
      ]
     },
     "execution_count": 64,
     "metadata": {},
     "output_type": "execute_result"
    }
   ],
   "source": [
    "deepcatvsdognn_1.fit(\n",
    "    X_train, # Training data\n",
    "    Y_train, # Labels of training data\n",
    "    batch_size=1000, # Batch size for the optimizer algorithm\n",
    "    epochs=60, # Number of epochs to run the optimizer algorithm\n",
    "    verbose=2 # Level of verbosity of the log messages\n",
    ")"
   ]
  },
  {
   "cell_type": "code",
   "execution_count": 65,
   "metadata": {},
   "outputs": [
    {
     "name": "stdout",
     "output_type": "stream",
     "text": [
      "6000/6000 [==============================] - 1s 247us/step\n",
      "Test loss 0.6684736512502034\n",
      "Test accuracy 0.6638333333333334\n"
     ]
    }
   ],
   "source": [
    "score = deepcatvsdognn_1 .evaluate(X_test, Y_test)\n",
    "print(\"Test loss\", score[0])\n",
    "print(\"Test accuracy\", score[1])"
   ]
  },
  {
   "cell_type": "markdown",
   "metadata": {},
   "source": [
    "## Second neural network "
   ]
  },
  {
   "cell_type": "code",
   "execution_count": 130,
   "metadata": {},
   "outputs": [],
   "source": [
    "from keras.models import Sequential\n",
    "from keras.layers.core import Dense\n",
    "from keras.layers.core import Activation\n",
    "from keras.layers.core import Dropout\n",
    "from keras.layers.core import Flatten\n",
    "from keras.layers.convolutional import Conv2D, MaxPooling2D\n",
    "\n",
    "\n",
    "\n"
   ]
  },
  {
   "cell_type": "code",
   "execution_count": 131,
   "metadata": {},
   "outputs": [],
   "source": [
    "deepcatvsdognn_2 = Sequential()"
   ]
  },
  {
   "cell_type": "code",
   "execution_count": 132,
   "metadata": {},
   "outputs": [],
   "source": [
    "\n",
    "deepcatvsdognn_2.add(Conv2D(filters = 8, kernel_size = 9, strides=2, activation = None))\n",
    "\n",
    "deepcatvsdognn_2.add(Activation('relu'))\n",
    "deepcatvsdognn_2.add(MaxPooling2D(pool_size=(2, 2), strides=(2, 2), data_format='channels_last'))\n",
    "deepcatvsdognn_2.add(Dropout(0.3))\n"
   ]
  },
  {
   "cell_type": "code",
   "execution_count": 133,
   "metadata": {},
   "outputs": [],
   "source": [
    "deepcatvsdognn_2.add(Conv2D(filters = 16, kernel_size = 7, strides=1, activation = None))\n",
    "\n",
    "deepcatvsdognn_2.add(Activation('relu'))\n",
    "\n",
    "deepcatvsdognn_2.add(Dropout(0.3))\n"
   ]
  },
  {
   "cell_type": "code",
   "execution_count": 134,
   "metadata": {},
   "outputs": [],
   "source": [
    "deepcatvsdognn_2.add(Conv2D(filters = 120, kernel_size = 3, strides=1, activation = None))\n",
    "\n",
    "deepcatvsdognn_2.add(Activation('relu'))\n",
    "\n",
    "deepcatvsdognn_2.add(Dropout(0.3))"
   ]
  },
  {
   "cell_type": "code",
   "execution_count": 135,
   "metadata": {},
   "outputs": [],
   "source": [
    "deepcatvsdognn_2.add(Conv2D(filters = 180, kernel_size = 3, strides=1, activation = None))\n",
    "\n",
    "deepcatvsdognn_2.add(Activation('relu'))\n",
    "\n",
    "deepcatvsdognn_2.add(Dropout(0.3))"
   ]
  },
  {
   "cell_type": "code",
   "execution_count": 136,
   "metadata": {},
   "outputs": [],
   "source": [
    "deepcatvsdognn_2.add(Conv2D(filters = 250, kernel_size = 3, strides=1, activation = None))"
   ]
  },
  {
   "cell_type": "code",
   "execution_count": null,
   "metadata": {},
   "outputs": [],
   "source": []
  },
  {
   "cell_type": "code",
   "execution_count": 137,
   "metadata": {},
   "outputs": [],
   "source": [
    "deepcatvsdognn_2.add(Flatten())\n",
    "deepcatvsdognn_2.add(Dense(250))\n",
    "deepcatvsdognn_2.add(Activation('relu'))"
   ]
  },
  {
   "cell_type": "code",
   "execution_count": 138,
   "metadata": {},
   "outputs": [],
   "source": [
    "deepcatvsdognn_2.add(Dense(1))\n",
    "deepcatvsdognn_2.add(Activation('tanh'))"
   ]
  },
  {
   "cell_type": "markdown",
   "metadata": {},
   "source": [
    "## Training our second network "
   ]
  },
  {
   "cell_type": "code",
   "execution_count": 139,
   "metadata": {},
   "outputs": [],
   "source": [
    "deepcatvsdognn_2.compile(loss='binary_crossentropy', optimizer='adam', metrics=[\"accuracy\"])"
   ]
  },
  {
   "cell_type": "code",
   "execution_count": 140,
   "metadata": {
    "scrolled": true
   },
   "outputs": [
    {
     "name": "stdout",
     "output_type": "stream",
     "text": [
      "Epoch 1/60\n",
      " - 12s - loss: 1.4819 - acc: 0.5123\n",
      "Epoch 2/60\n",
      " - 11s - loss: 0.7478 - acc: 0.5208\n",
      "Epoch 3/60\n",
      " - 10s - loss: 0.6906 - acc: 0.5413\n",
      "Epoch 4/60\n",
      " - 10s - loss: 0.6733 - acc: 0.5839\n",
      "Epoch 5/60\n",
      " - 9s - loss: 0.6710 - acc: 0.5913\n",
      "Epoch 6/60\n",
      " - 10s - loss: 0.6696 - acc: 0.5926\n",
      "Epoch 7/60\n",
      " - 9s - loss: 0.6665 - acc: 0.5958\n",
      "Epoch 8/60\n",
      " - 9s - loss: 0.6644 - acc: 0.6027\n",
      "Epoch 9/60\n",
      " - 9s - loss: 0.6626 - acc: 0.6018\n",
      "Epoch 10/60\n",
      " - 9s - loss: 0.6604 - acc: 0.6080\n",
      "Epoch 11/60\n",
      " - 9s - loss: 0.6576 - acc: 0.6125\n",
      "Epoch 12/60\n",
      " - 9s - loss: 0.6550 - acc: 0.6139\n",
      "Epoch 13/60\n",
      " - 9s - loss: 0.6521 - acc: 0.6170\n",
      "Epoch 14/60\n",
      " - 9s - loss: 0.6516 - acc: 0.6172\n",
      "Epoch 15/60\n",
      " - 9s - loss: 0.6489 - acc: 0.6202\n",
      "Epoch 16/60\n",
      " - 9s - loss: 0.6430 - acc: 0.6284\n",
      "Epoch 17/60\n",
      " - 9s - loss: 0.6373 - acc: 0.6317\n",
      "Epoch 18/60\n",
      " - 9s - loss: 0.6342 - acc: 0.6395\n",
      "Epoch 19/60\n",
      " - 9s - loss: 0.6304 - acc: 0.6476\n",
      "Epoch 20/60\n",
      " - 9s - loss: 0.6244 - acc: 0.6494\n",
      "Epoch 21/60\n",
      " - 9s - loss: 0.6212 - acc: 0.6484\n",
      "Epoch 22/60\n",
      " - 9s - loss: 0.6212 - acc: 0.6553\n",
      "Epoch 23/60\n",
      " - 9s - loss: 0.6103 - acc: 0.6649\n",
      "Epoch 24/60\n",
      " - 9s - loss: 0.6089 - acc: 0.6685\n",
      "Epoch 25/60\n",
      " - 9s - loss: 0.6067 - acc: 0.6685\n",
      "Epoch 26/60\n",
      " - 9s - loss: 0.6071 - acc: 0.6692\n",
      "Epoch 27/60\n",
      " - 9s - loss: 0.5929 - acc: 0.6809\n",
      "Epoch 28/60\n",
      " - 9s - loss: 0.5886 - acc: 0.6854\n",
      "Epoch 29/60\n",
      " - 9s - loss: 0.5818 - acc: 0.6935\n",
      "Epoch 30/60\n",
      " - 9s - loss: 0.5743 - acc: 0.6986\n",
      "Epoch 31/60\n",
      " - 9s - loss: 0.5717 - acc: 0.7028\n",
      "Epoch 32/60\n",
      " - 9s - loss: 0.5651 - acc: 0.7065\n",
      "Epoch 33/60\n",
      " - 9s - loss: 0.5630 - acc: 0.7108\n",
      "Epoch 34/60\n",
      " - 9s - loss: 0.5562 - acc: 0.7159\n",
      "Epoch 35/60\n",
      " - 9s - loss: 0.5509 - acc: 0.7180\n",
      "Epoch 36/60\n",
      " - 9s - loss: 0.5407 - acc: 0.7261\n",
      "Epoch 37/60\n",
      " - 9s - loss: 0.5440 - acc: 0.7259\n",
      "Epoch 38/60\n",
      " - 9s - loss: 0.5405 - acc: 0.7299\n",
      "Epoch 39/60\n",
      " - 9s - loss: 0.5354 - acc: 0.7332\n",
      "Epoch 40/60\n",
      " - 9s - loss: 0.5289 - acc: 0.7349\n",
      "Epoch 41/60\n",
      " - 9s - loss: 0.5222 - acc: 0.7421\n",
      "Epoch 42/60\n",
      " - 9s - loss: 0.5201 - acc: 0.7406\n",
      "Epoch 43/60\n",
      " - 9s - loss: 0.5172 - acc: 0.7466\n",
      "Epoch 44/60\n",
      " - 9s - loss: 0.5118 - acc: 0.7484\n",
      "Epoch 45/60\n",
      " - 9s - loss: 0.5050 - acc: 0.7532\n",
      "Epoch 46/60\n",
      " - 9s - loss: 0.4984 - acc: 0.7552\n",
      "Epoch 47/60\n",
      " - 9s - loss: 0.4967 - acc: 0.7591\n",
      "Epoch 48/60\n",
      " - 9s - loss: 0.4981 - acc: 0.7601\n",
      "Epoch 49/60\n",
      " - 9s - loss: 0.4948 - acc: 0.7579\n",
      "Epoch 50/60\n",
      " - 9s - loss: 0.4885 - acc: 0.7646\n",
      "Epoch 51/60\n",
      " - 8s - loss: 0.4887 - acc: 0.7633\n",
      "Epoch 52/60\n",
      " - 9s - loss: 0.4782 - acc: 0.7726\n",
      "Epoch 53/60\n",
      " - 9s - loss: 0.5344 - acc: 0.7260\n",
      "Epoch 54/60\n",
      " - 9s - loss: 0.6063 - acc: 0.6749\n",
      "Epoch 55/60\n",
      " - 9s - loss: 0.5357 - acc: 0.7381\n",
      "Epoch 56/60\n",
      " - 9s - loss: 0.5028 - acc: 0.7566\n",
      "Epoch 57/60\n",
      " - 9s - loss: 0.4858 - acc: 0.7659\n",
      "Epoch 58/60\n",
      " - 11s - loss: 0.4788 - acc: 0.7684\n",
      "Epoch 59/60\n",
      " - 10s - loss: 0.4783 - acc: 0.7713\n",
      "Epoch 60/60\n",
      " - 9s - loss: 0.4767 - acc: 0.7754\n"
     ]
    },
    {
     "data": {
      "text/plain": [
       "<keras.callbacks.History at 0x7fcce878ad68>"
      ]
     },
     "execution_count": 140,
     "metadata": {},
     "output_type": "execute_result"
    }
   ],
   "source": [
    "deepcatvsdognn_2.fit(\n",
    "    X_train, # Training data\n",
    "    Y_train, # Labels of training data\n",
    "    batch_size=1000, # Batch size for the optimizer algorithm\n",
    "    epochs=60, # Number of epochs to run the optimizer algorithm\n",
    "    verbose=2 # Level of verbosity of the log messages\n",
    ")"
   ]
  },
  {
   "cell_type": "code",
   "execution_count": 141,
   "metadata": {},
   "outputs": [
    {
     "name": "stdout",
     "output_type": "stream",
     "text": [
      "6000/6000 [==============================] - 2s 297us/step\n",
      "Test loss 0.5579810655911763\n",
      "Test accuracy 0.7293333333333333\n"
     ]
    }
   ],
   "source": [
    "score2 = deepcatvsdognn_2 .evaluate(X_test, Y_test)\n",
    "print(\"Test loss\", score2[0])\n",
    "print(\"Test accuracy\", score2[1])"
   ]
  },
  {
   "cell_type": "markdown",
   "metadata": {},
   "source": [
    "<img src=\"img/question.png\" height=\"80\" width=\"80\" style=\"float: right;\"/>\n",
    "\n",
    "***\n",
    "<font color=#ad3e26>\n",
    "Create a deep network that achieves at least a 60% of accuracy in the test set. Make use of the layers you seem fit for problem. You cannot use the test data for fitting the network, but you can use it to check the final performance of different network architectures, and select the architecture performing best.</font>\n",
    "\n",
    "***"
   ]
  },
  {
   "cell_type": "markdown",
   "metadata": {},
   "source": [
    "<img src=\"img/exclamation.png\" height=\"80\" width=\"80\" style=\"float: right;\"/>\n",
    "\n",
    "***\n",
    "<font color=#2655ad>\n",
    "    \n",
    "If you are unable to attain the required 60% of accuracy, or your accuracy is too close to 100%, review the following checklist:\n",
    "- Have you mixed training and test data?\n",
    "- Have the values of the pixels been normalized?\n",
    "- Have you compiled the model with a loss function appropriate for **binary** classification?\n",
    "- Have you used ReLU units in the hidden layers? Have you used sigmoid or softmax layers in the output layer?\n",
    "\n",
    "***"
   ]
  },
  {
   "cell_type": "markdown",
   "metadata": {},
   "source": [
    "## Improving the network"
   ]
  },
  {
   "cell_type": "code",
   "execution_count": null,
   "metadata": {},
   "outputs": [],
   "source": []
  },
  {
   "cell_type": "code",
   "execution_count": 3,
   "metadata": {},
   "outputs": [],
   "source": [
    "import os\n",
    "\n",
    "os.getcwd()\n",
    "\n",
    "pathtrain = '/home/stefano/Dropbox/Aprendizaje util/Programacion learning/aavanzados/neural networks/train/'\n",
    "pathtest = '/home/stefano/Dropbox/Aprendizaje util/Programacion learning/aavanzados/neural networks/test/'"
   ]
  },
  {
   "cell_type": "code",
   "execution_count": 1,
   "metadata": {},
   "outputs": [
    {
     "name": "stderr",
     "output_type": "stream",
     "text": [
      "Using TensorFlow backend.\n"
     ]
    }
   ],
   "source": [
    "from keras.models import Sequential\n",
    "import numpy as np\n",
    "from keras.layers.core import Dense\n",
    "from keras.layers.core import Activation\n",
    "from keras.layers.core import Dropout\n",
    "from keras.layers.core import Flatten\n",
    "\n",
    "\n",
    "deepcatvsdognn_3= Sequential()\n",
    "\n",
    "from keras.layers.convolutional import Conv2D, MaxPooling2D\n",
    "deepcatvsdognn_3.add(Conv2D( filters = 8, kernel_size = 23, strides=1, activation = None, input_shape=(150,150,3)))\n",
    "\n",
    "deepcatvsdognn_3.add(Activation('relu'))\n",
    "deepcatvsdognn_3.add(MaxPooling2D(pool_size=(2, 2), strides=1, data_format='channels_last'))\n",
    "deepcatvsdognn_3.add(Dropout(0.3))\n",
    "\n",
    "\n",
    "deepcatvsdognn_3.add(Conv2D(filters = 16, kernel_size = 15, strides=1, activation = None))\n",
    "\n",
    "deepcatvsdognn_3.add(Activation('relu'))\n",
    "deepcatvsdognn_3.add(MaxPooling2D(pool_size=(2, 2), strides=1, data_format='channels_last'))\n",
    "deepcatvsdognn_3.add(Dropout(0.3))\n",
    "\n",
    "\n",
    "deepcatvsdognn_3.add(Conv2D(filters = 64, kernel_size = 9, strides=1, activation = None))\n",
    "\n",
    "deepcatvsdognn_3.add(Activation('relu'))\n",
    "deepcatvsdognn_3.add(MaxPooling2D(pool_size=(2, 2), strides=1, data_format='channels_last'))\n",
    "deepcatvsdognn_3.add(Dropout(0.3))\n",
    "\n",
    "deepcatvsdognn_3.add(Conv2D(filters = 94, kernel_size = 7, strides=1, activation = None))\n",
    "\n",
    "deepcatvsdognn_3.add(Activation('relu'))\n",
    "deepcatvsdognn_3.add(MaxPooling2D(pool_size=(2, 2), strides=1, data_format='channels_last'))\n",
    "deepcatvsdognn_3.add(Dropout(0.3))\n",
    "\n",
    "\n",
    "deepcatvsdognn_3.add(Conv2D(filters = 114, kernel_size = 3, strides=1, activation = None))\n",
    "\n",
    "deepcatvsdognn_3.add(Activation('relu'))\n",
    "\n",
    "deepcatvsdognn_3.add(Conv2D(filters = 250, kernel_size = 3, strides=1, activation = None))\n",
    "\n",
    "\n",
    "deepcatvsdognn_3.add(Flatten())\n",
    "deepcatvsdognn_3.add(Dense(250))\n",
    "deepcatvsdognn_3.add(Activation('relu'))\n",
    "\n",
    "\n",
    "deepcatvsdognn_3.add(Dense(1))\n",
    "deepcatvsdognn_3.add(Activation('tanh'))\n",
    "\n",
    "\n",
    "\n",
    "\n"
   ]
  },
  {
   "cell_type": "code",
   "execution_count": 2,
   "metadata": {},
   "outputs": [],
   "source": [
    "deepcatvsdognn_3.compile(loss='binary_crossentropy', optimizer='adam', metrics=[\"accuracy\"])"
   ]
  },
  {
   "cell_type": "code",
   "execution_count": null,
   "metadata": {},
   "outputs": [],
   "source": [
    "# Using image generator from directory\n",
    "from keras.preprocessing.image import ImageDataGenerator\n",
    "\n",
    "train_datagen = ImageDataGenerator(\n",
    "        rescale=1./255)\n",
    "\n",
    "test_datagen = ImageDataGenerator(rescale=1./255)\n",
    "\n",
    "train_generator = train_datagen.flow_from_directory(\n",
    "        pathtrain,\n",
    "        target_size=(150, 150),\n",
    "        batch_size=1000,\n",
    "        class_mode='binary')\n",
    "\n",
    "validation_generator = test_datagen.flow_from_directory(\n",
    "        pathtest,\n",
    "        target_size=(150, 150),\n",
    "        batch_size=100,\n",
    "        class_mode='binary')\n",
    "\n",
    "deepcatvsdognn_3.fit_generator(\n",
    "        train_generator,\n",
    "        steps_per_epoch=1000,\n",
    "        epochs=60,\n",
    "        validation_data=validation_generator,\n",
    "        validation_steps=800)"
   ]
  },
  {
   "cell_type": "markdown",
   "metadata": {},
   "source": [
    "<img src=\"img/pro.png\" height=\"80\" width=\"80\" style=\"float: right;\"/>\n",
    "\n",
    "***\n",
    "\n",
    "<font color=#259b4c>\n",
    "    \n",
    "You can further improve your results by applying one or more of the following strategies:\n",
    "- Keep apart a portion of the training data as a **validation set**. Then use an <a href=\"https://keras.io/callbacks/#earlystopping\">**EarlyStopping strategy**</a> to monitor the loss of these validation data, and stop when training when after a number of iterations such loss has not decreased.\n",
    "- Make use of **metamodelling techniques** to select the best architecture parameters for the networks. You can use scikit-learn methods GridSearchCV or RandomSearchCV. You can do those by using the <a href=\"https://keras.io/scikit-learn-api/\">KerasClassifier</a> wrapper. Even better, you can mix KerasClassifier with an advanced search method such as [BayesSearch](https://scikit-optimize.github.io/#skopt.BayesSearchCV), included in the [scikit-optimize](https://scikit-optimize.github.io/) library.\n",
    "- Use **image augmentation techniques** to artifically create new training images. To do so, you can make use of <a href=\"https://keras.io/preprocessing/image/\">ImageDataGenerator</a> in Keras.\n",
    "- Make use of a pre-trained large network, building your network on top of it. You can find some examples in the [Keras Applications](https://keras.io/applications/) page.\n",
    "\n",
    "If you correctly use these techniques you should be able to improve your model. With some effort it is possible to up to a 90% test accuracy. Try to do your best!</font>\n",
    "\n",
    "***"
   ]
  },
  {
   "cell_type": "markdown",
   "metadata": {},
   "source": [
    "## Analyzing the results"
   ]
  },
  {
   "cell_type": "markdown",
   "metadata": {},
   "source": [
    "<img src=\"img/question.png\" height=\"80\" width=\"80\" style=\"float: right;\"/>\n",
    "\n",
    "***\n",
    "\n",
    "<font color=#ad3e26>\n",
    "Find and show some test images for which your model fails. Can you give an explanation for this behavior?</font>\n",
    "\n",
    "***"
   ]
  },
  {
   "cell_type": "code",
   "execution_count": 125,
   "metadata": {},
   "outputs": [
    {
     "data": {
      "text/html": [
       "<div>\n",
       "<style scoped>\n",
       "    .dataframe tbody tr th:only-of-type {\n",
       "        vertical-align: middle;\n",
       "    }\n",
       "\n",
       "    .dataframe tbody tr th {\n",
       "        vertical-align: top;\n",
       "    }\n",
       "\n",
       "    .dataframe thead th {\n",
       "        text-align: right;\n",
       "    }\n",
       "</style>\n",
       "<table border=\"1\" class=\"dataframe\">\n",
       "  <thead>\n",
       "    <tr style=\"text-align: right;\">\n",
       "      <th></th>\n",
       "      <th>error</th>\n",
       "    </tr>\n",
       "  </thead>\n",
       "  <tbody>\n",
       "    <tr>\n",
       "      <th>0</th>\n",
       "      <td>True</td>\n",
       "    </tr>\n",
       "    <tr>\n",
       "      <th>2</th>\n",
       "      <td>True</td>\n",
       "    </tr>\n",
       "    <tr>\n",
       "      <th>7</th>\n",
       "      <td>True</td>\n",
       "    </tr>\n",
       "    <tr>\n",
       "      <th>8</th>\n",
       "      <td>True</td>\n",
       "    </tr>\n",
       "    <tr>\n",
       "      <th>9</th>\n",
       "      <td>True</td>\n",
       "    </tr>\n",
       "    <tr>\n",
       "      <th>10</th>\n",
       "      <td>True</td>\n",
       "    </tr>\n",
       "    <tr>\n",
       "      <th>13</th>\n",
       "      <td>True</td>\n",
       "    </tr>\n",
       "    <tr>\n",
       "      <th>14</th>\n",
       "      <td>True</td>\n",
       "    </tr>\n",
       "    <tr>\n",
       "      <th>16</th>\n",
       "      <td>True</td>\n",
       "    </tr>\n",
       "    <tr>\n",
       "      <th>17</th>\n",
       "      <td>True</td>\n",
       "    </tr>\n",
       "    <tr>\n",
       "      <th>19</th>\n",
       "      <td>True</td>\n",
       "    </tr>\n",
       "    <tr>\n",
       "      <th>20</th>\n",
       "      <td>True</td>\n",
       "    </tr>\n",
       "    <tr>\n",
       "      <th>22</th>\n",
       "      <td>True</td>\n",
       "    </tr>\n",
       "    <tr>\n",
       "      <th>25</th>\n",
       "      <td>True</td>\n",
       "    </tr>\n",
       "    <tr>\n",
       "      <th>33</th>\n",
       "      <td>True</td>\n",
       "    </tr>\n",
       "    <tr>\n",
       "      <th>35</th>\n",
       "      <td>True</td>\n",
       "    </tr>\n",
       "    <tr>\n",
       "      <th>36</th>\n",
       "      <td>True</td>\n",
       "    </tr>\n",
       "    <tr>\n",
       "      <th>38</th>\n",
       "      <td>True</td>\n",
       "    </tr>\n",
       "    <tr>\n",
       "      <th>39</th>\n",
       "      <td>True</td>\n",
       "    </tr>\n",
       "    <tr>\n",
       "      <th>40</th>\n",
       "      <td>True</td>\n",
       "    </tr>\n",
       "    <tr>\n",
       "      <th>42</th>\n",
       "      <td>True</td>\n",
       "    </tr>\n",
       "    <tr>\n",
       "      <th>43</th>\n",
       "      <td>True</td>\n",
       "    </tr>\n",
       "    <tr>\n",
       "      <th>44</th>\n",
       "      <td>True</td>\n",
       "    </tr>\n",
       "    <tr>\n",
       "      <th>45</th>\n",
       "      <td>True</td>\n",
       "    </tr>\n",
       "    <tr>\n",
       "      <th>49</th>\n",
       "      <td>True</td>\n",
       "    </tr>\n",
       "    <tr>\n",
       "      <th>50</th>\n",
       "      <td>True</td>\n",
       "    </tr>\n",
       "    <tr>\n",
       "      <th>51</th>\n",
       "      <td>True</td>\n",
       "    </tr>\n",
       "    <tr>\n",
       "      <th>52</th>\n",
       "      <td>True</td>\n",
       "    </tr>\n",
       "    <tr>\n",
       "      <th>53</th>\n",
       "      <td>True</td>\n",
       "    </tr>\n",
       "    <tr>\n",
       "      <th>55</th>\n",
       "      <td>True</td>\n",
       "    </tr>\n",
       "    <tr>\n",
       "      <th>...</th>\n",
       "      <td>...</td>\n",
       "    </tr>\n",
       "    <tr>\n",
       "      <th>5949</th>\n",
       "      <td>True</td>\n",
       "    </tr>\n",
       "    <tr>\n",
       "      <th>5950</th>\n",
       "      <td>True</td>\n",
       "    </tr>\n",
       "    <tr>\n",
       "      <th>5951</th>\n",
       "      <td>True</td>\n",
       "    </tr>\n",
       "    <tr>\n",
       "      <th>5952</th>\n",
       "      <td>True</td>\n",
       "    </tr>\n",
       "    <tr>\n",
       "      <th>5953</th>\n",
       "      <td>True</td>\n",
       "    </tr>\n",
       "    <tr>\n",
       "      <th>5954</th>\n",
       "      <td>True</td>\n",
       "    </tr>\n",
       "    <tr>\n",
       "      <th>5955</th>\n",
       "      <td>True</td>\n",
       "    </tr>\n",
       "    <tr>\n",
       "      <th>5957</th>\n",
       "      <td>True</td>\n",
       "    </tr>\n",
       "    <tr>\n",
       "      <th>5958</th>\n",
       "      <td>True</td>\n",
       "    </tr>\n",
       "    <tr>\n",
       "      <th>5960</th>\n",
       "      <td>True</td>\n",
       "    </tr>\n",
       "    <tr>\n",
       "      <th>5963</th>\n",
       "      <td>True</td>\n",
       "    </tr>\n",
       "    <tr>\n",
       "      <th>5964</th>\n",
       "      <td>True</td>\n",
       "    </tr>\n",
       "    <tr>\n",
       "      <th>5966</th>\n",
       "      <td>True</td>\n",
       "    </tr>\n",
       "    <tr>\n",
       "      <th>5968</th>\n",
       "      <td>True</td>\n",
       "    </tr>\n",
       "    <tr>\n",
       "      <th>5969</th>\n",
       "      <td>True</td>\n",
       "    </tr>\n",
       "    <tr>\n",
       "      <th>5974</th>\n",
       "      <td>True</td>\n",
       "    </tr>\n",
       "    <tr>\n",
       "      <th>5976</th>\n",
       "      <td>True</td>\n",
       "    </tr>\n",
       "    <tr>\n",
       "      <th>5977</th>\n",
       "      <td>True</td>\n",
       "    </tr>\n",
       "    <tr>\n",
       "      <th>5980</th>\n",
       "      <td>True</td>\n",
       "    </tr>\n",
       "    <tr>\n",
       "      <th>5981</th>\n",
       "      <td>True</td>\n",
       "    </tr>\n",
       "    <tr>\n",
       "      <th>5982</th>\n",
       "      <td>True</td>\n",
       "    </tr>\n",
       "    <tr>\n",
       "      <th>5984</th>\n",
       "      <td>True</td>\n",
       "    </tr>\n",
       "    <tr>\n",
       "      <th>5985</th>\n",
       "      <td>True</td>\n",
       "    </tr>\n",
       "    <tr>\n",
       "      <th>5992</th>\n",
       "      <td>True</td>\n",
       "    </tr>\n",
       "    <tr>\n",
       "      <th>5993</th>\n",
       "      <td>True</td>\n",
       "    </tr>\n",
       "    <tr>\n",
       "      <th>5995</th>\n",
       "      <td>True</td>\n",
       "    </tr>\n",
       "    <tr>\n",
       "      <th>5996</th>\n",
       "      <td>True</td>\n",
       "    </tr>\n",
       "    <tr>\n",
       "      <th>5997</th>\n",
       "      <td>True</td>\n",
       "    </tr>\n",
       "    <tr>\n",
       "      <th>5998</th>\n",
       "      <td>True</td>\n",
       "    </tr>\n",
       "    <tr>\n",
       "      <th>5999</th>\n",
       "      <td>True</td>\n",
       "    </tr>\n",
       "  </tbody>\n",
       "</table>\n",
       "<p>3060 rows × 1 columns</p>\n",
       "</div>"
      ],
      "text/plain": [
       "      error\n",
       "0      True\n",
       "2      True\n",
       "7      True\n",
       "8      True\n",
       "9      True\n",
       "10     True\n",
       "13     True\n",
       "14     True\n",
       "16     True\n",
       "17     True\n",
       "19     True\n",
       "20     True\n",
       "22     True\n",
       "25     True\n",
       "33     True\n",
       "35     True\n",
       "36     True\n",
       "38     True\n",
       "39     True\n",
       "40     True\n",
       "42     True\n",
       "43     True\n",
       "44     True\n",
       "45     True\n",
       "49     True\n",
       "50     True\n",
       "51     True\n",
       "52     True\n",
       "53     True\n",
       "55     True\n",
       "...     ...\n",
       "5949   True\n",
       "5950   True\n",
       "5951   True\n",
       "5952   True\n",
       "5953   True\n",
       "5954   True\n",
       "5955   True\n",
       "5957   True\n",
       "5958   True\n",
       "5960   True\n",
       "5963   True\n",
       "5964   True\n",
       "5966   True\n",
       "5968   True\n",
       "5969   True\n",
       "5974   True\n",
       "5976   True\n",
       "5977   True\n",
       "5980   True\n",
       "5981   True\n",
       "5982   True\n",
       "5984   True\n",
       "5985   True\n",
       "5992   True\n",
       "5993   True\n",
       "5995   True\n",
       "5996   True\n",
       "5997   True\n",
       "5998   True\n",
       "5999   True\n",
       "\n",
       "[3060 rows x 1 columns]"
      ]
     },
     "execution_count": 125,
     "metadata": {},
     "output_type": "execute_result"
    }
   ],
   "source": [
    "\n",
    "\n",
    "y_prob = deepcatvsdognn_1.predict(X_test)\n",
    "\n",
    "errors = (y_prob.astype(int) != Y_test )\n",
    "\n",
    "import pandas as pd\n",
    "errordf = pd.DataFrame(errors, columns=['error'])\n",
    "\n",
    "errordf.loc[errordf[\"error\"] == True]"
   ]
  },
  {
   "cell_type": "code",
   "execution_count": 126,
   "metadata": {},
   "outputs": [
    {
     "name": "stderr",
     "output_type": "stream",
     "text": [
      "Clipping input data to the valid range for imshow with RGB data ([0..1] for floats or [0..255] for integers).\n"
     ]
    },
    {
     "data": {
      "text/plain": [
       "<matplotlib.image.AxesImage at 0x7fccee16beb8>"
      ]
     },
     "execution_count": 126,
     "metadata": {},
     "output_type": "execute_result"
    },
    {
     "data": {
      "image/png": "[encoded data removed]",
      "text/plain": [
       "<Figure size 432x288 with 1 Axes>"
      ]
     },
     "metadata": {
      "needs_background": "light"
     },
     "output_type": "display_data"
    }
   ],
   "source": [
    "plt.imshow(X_test[0])"
   ]
  },
  {
   "cell_type": "code",
   "execution_count": 127,
   "metadata": {},
   "outputs": [
    {
     "name": "stderr",
     "output_type": "stream",
     "text": [
      "Clipping input data to the valid range for imshow with RGB data ([0..1] for floats or [0..255] for integers).\n"
     ]
    },
    {
     "data": {
      "text/plain": [
       "<matplotlib.image.AxesImage at 0x7fcce8781828>"
      ]
     },
     "execution_count": 127,
     "metadata": {},
     "output_type": "execute_result"
    },
    {
     "data": {
      "image/png": "[encoded data removed]",
      "text/plain": [
       "<Figure size 432x288 with 1 Axes>"
      ]
     },
     "metadata": {
      "needs_background": "light"
     },
     "output_type": "display_data"
    }
   ],
   "source": [
    "plt.imshow(X_test[2])"
   ]
  },
  {
   "cell_type": "markdown",
   "metadata": {},
   "source": [
    "The reason this happens is possibly because of the size of the pixels that we used for training, by prioritizing computational speed, we have decreased the number of pixels in the different images used in training set, this has caused two adverse effects being the first one , the loss of information ( this type of case might require the neural network to study in depth de different details of the images ) and also we have limited ourselves the number of convolutions and pooling layers we can use, the smaller the depth of the network, worse results will obtain the model . Probably these images, are easy to confuse with the level of image detail available based on the information given in the training set."
   ]
  },
  {
   "cell_type": "markdown",
   "metadata": {},
   "source": [
    "<img src=\"img/question.png\" height=\"80\" width=\"80\" style=\"float: right;\"/>\n",
    "\n",
    "***\n",
    "\n",
    "<font color=#ad3e26>\n",
    "Write a small report summarizing the network choices you have tried, what worked and what didn't. What have you learned from this experience?</font>\n",
    "\n",
    "***"
   ]
  },
  {
   "cell_type": "markdown",
   "metadata": {},
   "source": [
    "The first thing I tried right from the start, was implementing the LeNet, and in the first attempt I made various mistakes, first, I did not understand the importance of setting a high enough amount of epochs, and choosing the batch sizes in those epochs. I had originally set 6000 units and three epochs, I also made the mistake of not standardizing the data properly, causing the model to train itself with practically pitch black images ( this caused the accuracy to drop to 48%). \n",
    "After correcting these mistakes, I Noticed an improvement when organizing the kernels of the different convolutions, so the higher the deeper the kernel the lower size, this is probably because the type of images and problem we are working with requires a good attention to detail to differentiate, especially if the cats or dogs are not at the center of the image.\n",
    "\n",
    "I wish I have had the time to learn how to use data augmentation and image preprocessing \"flow_from_directory\", I would have used bigger sized images to train the model and design networks with more depth. As an experiment, after achieving the 66% accuracy ( before that, the same neural network had achieved a 73%, I trained it again and it gave a worse result,  but I had to stop because of time) I tried a neural network consisting of only convolutional layers without pooling, I had the hypothesis that that would have a similar effect as the one you could expect when increasing layers, but it gave me more or less similar accuracy, with bigger computational cost ( After training it a second time, I got once again a 72% , taking in consideration that the first neural network, got a 66% the second time, maybe we could think of it as a more robust network, or might be coincidence). "
   ]
  }
 ],
 "metadata": {
  "anaconda-cloud": {},
  "kernelspec": {
   "display_name": "Python 3",
   "language": "python",
   "name": "python3"
  },
  "language_info": {
   "codemirror_mode": {
    "name": "ipython",
    "version": 3
   },
   "file_extension": ".py",
   "mimetype": "text/x-python",
   "name": "python",
   "nbconvert_exporter": "python",
   "pygments_lexer": "ipython3",
   "version": "3.6.8"
  }
 },
 "nbformat": 4,
 "nbformat_minor": 1
}
