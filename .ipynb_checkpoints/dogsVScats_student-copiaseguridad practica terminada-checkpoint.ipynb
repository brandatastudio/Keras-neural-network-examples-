{
 "cells": [
  {
   "cell_type": "markdown",
   "metadata": {
    "nbgrader": {
     "grade": false,
     "locked": false,
     "solution": false
    }
   },
   "source": [
    "# Lab assignment: dogs VS cats"
   ]
  },
  {
   "cell_type": "markdown",
   "metadata": {
    "nbgrader": {
     "grade": false,
     "locked": false,
     "solution": false
    }
   },
   "source": [
    "<table><tr>\n",
    "    <td><img src=\"img/doge.jpg\" style=\"width:400px;height:400px;\"></td>\n",
    "    <td><img src=\"img/cat.jpg\" style=\"width:400px;height:400px;\"></td>\n",
    "</tr></table>"
   ]
  },
  {
   "cell_type": "markdown",
   "metadata": {
    "nbgrader": {
     "grade": false,
     "locked": false,
     "solution": false
    }
   },
   "source": [
    "In this assignment we will face an image classification problem, trying to tell apart images of dogs and images of cats. The final battle begins! And to do so we will use a Deep Learning approach."
   ]
  },
  {
   "cell_type": "markdown",
   "metadata": {
    "nbgrader": {
     "grade": false,
     "locked": false,
     "solution": false
    }
   },
   "source": [
    "## Guidelines"
   ]
  },
  {
   "cell_type": "markdown",
   "metadata": {},
   "source": [
    "Throughout this notebook you will find empty cells that you will need to fill with your own code. Follow the instructions in the notebook and pay special attention to the following symbols.\n",
    "\n",
    "<img src=\"img/question.png\" height=\"80\" width=\"80\" style=\"float: right;\"/>\n",
    "\n",
    "***\n",
    "\n",
    "<font color=#ad3e26>\n",
    "You will need to solve a question by writing your own code or answer in the cell immediately below or in a different file, as instructed.</font>\n",
    "\n",
    "***"
   ]
  },
  {
   "cell_type": "markdown",
   "metadata": {},
   "source": [
    "<img src=\"img/exclamation.png\" height=\"80\" width=\"80\" style=\"float: right;\"/>\n",
    "\n",
    "***\n",
    "<font color=#2655ad>\n",
    "This is a hint or useful observation that can help you solve this assignment. You should pay attention to these hints to better understand the assignment.\n",
    "</font>\n",
    "\n",
    "***"
   ]
  },
  {
   "cell_type": "markdown",
   "metadata": {},
   "source": [
    "<img src=\"img/pro.png\" height=\"80\" width=\"80\" style=\"float: right;\"/>\n",
    "\n",
    "***\n",
    "<font color=#259b4c>\n",
    "This is an advanced exercise that can help you gain a deeper knowledge into the topic. Good luck!</font>\n",
    "\n",
    "***"
   ]
  },
  {
   "cell_type": "markdown",
   "metadata": {},
   "source": [
    "To avoid missing packages and compatibility issues you should run this notebook under one of the [recommended Deep Learning environment files](https://github.com/albarji/teaching-environments/tree/master/deeplearning)."
   ]
  },
  {
   "cell_type": "markdown",
   "metadata": {},
   "source": [
    "The following code will embed any plots into the notebook instead of generating a new window:"
   ]
  },
  {
   "cell_type": "code",
   "execution_count": 1,
   "metadata": {},
   "outputs": [],
   "source": [
    "import matplotlib.pyplot as plt\n",
    "%matplotlib inline"
   ]
  },
  {
   "cell_type": "markdown",
   "metadata": {},
   "source": [
    "Lastly, if you need any help on the usage of a Python function you can place the writing cursor over its name and press Caps+Shift to produce a pop-out with related documentation. This will only work inside code cells. \n",
    "\n",
    "Let's go!"
   ]
  },
  {
   "cell_type": "markdown",
   "metadata": {},
   "source": [
    "## Data processing"
   ]
  },
  {
   "cell_type": "markdown",
   "metadata": {},
   "source": [
    "The images to use in this assignment are available [here](https://drive.google.com/open?id=105jGDrjEgxx2W2gYhFF8Mbf1J9qJeDPm). Download the data package and extract it into a folder in your computer."
   ]
  },
  {
   "cell_type": "markdown",
   "metadata": {},
   "source": [
    "Data is structured under two folders, *train* and *test*. You are only allowed to use the *test* data to measure the performance of your model **after** you have finished training. Both *train* and *test* folders contain one subfolder per class (*cats* and *dogs*)."
   ]
  },
  {
   "cell_type": "markdown",
   "metadata": {},
   "source": [
    "The recommended way to load an image from disk is to use the *imread* function from the *scikit-image* library. For example:"
   ]
  },
  {
   "cell_type": "code",
   "execution_count": 2,
   "metadata": {},
   "outputs": [],
   "source": [
    "from skimage.io import imread\n",
    "\n",
    "image = imread(\"./img/sample.jpg\")"
   ]
  },
  {
   "cell_type": "markdown",
   "metadata": {},
   "source": [
    "This returns the image as 3-dimensional numpy matrix, containing the value of intensity of every pixel in each row, column and color channel."
   ]
  },
  {
   "cell_type": "code",
   "execution_count": 3,
   "metadata": {},
   "outputs": [
    {
     "data": {
      "text/plain": [
       "(499, 367, 3)"
      ]
     },
     "execution_count": 3,
     "metadata": {},
     "output_type": "execute_result"
    }
   ],
   "source": [
    "image.shape"
   ]
  },
  {
   "cell_type": "code",
   "execution_count": 4,
   "metadata": {},
   "outputs": [
    {
     "data": {
      "text/plain": [
       "array([[[ 86, 103,  49],\n",
       "        [ 89, 106,  52],\n",
       "        [ 92, 109,  55],\n",
       "        ...,\n",
       "        [ 23,  33,  60],\n",
       "        [ 25,  34,  63],\n",
       "        [ 24,  33,  64]],\n",
       "\n",
       "       [[ 84, 101,  47],\n",
       "        [ 87, 104,  50],\n",
       "        [ 90, 107,  53],\n",
       "        ...,\n",
       "        [ 23,  33,  60],\n",
       "        [ 25,  34,  63],\n",
       "        [ 24,  33,  64]],\n",
       "\n",
       "       [[ 80,  99,  43],\n",
       "        [ 82, 101,  45],\n",
       "        [ 86, 105,  50],\n",
       "        ...,\n",
       "        [ 24,  34,  61],\n",
       "        [ 26,  35,  64],\n",
       "        [ 25,  34,  65]],\n",
       "\n",
       "       ...,\n",
       "\n",
       "       [[ 37,  57,  30],\n",
       "        [ 37,  55,  29],\n",
       "        [ 36,  54,  28],\n",
       "        ...,\n",
       "        [176, 179, 184],\n",
       "        [175, 178, 183],\n",
       "        [175, 178, 183]],\n",
       "\n",
       "       [[ 36,  56,  29],\n",
       "        [ 36,  54,  28],\n",
       "        [ 35,  53,  27],\n",
       "        ...,\n",
       "        [176, 179, 184],\n",
       "        [175, 178, 183],\n",
       "        [175, 178, 183]],\n",
       "\n",
       "       [[ 35,  55,  28],\n",
       "        [ 35,  53,  27],\n",
       "        [ 34,  52,  26],\n",
       "        ...,\n",
       "        [176, 179, 184],\n",
       "        [175, 178, 183],\n",
       "        [175, 178, 183]]], dtype=uint8)"
      ]
     },
     "execution_count": 4,
     "metadata": {},
     "output_type": "execute_result"
    }
   ],
   "source": [
    "image"
   ]
  },
  {
   "cell_type": "markdown",
   "metadata": {},
   "source": [
    "We can visualize the loaded image using"
   ]
  },
  {
   "cell_type": "code",
   "execution_count": 5,
   "metadata": {},
   "outputs": [
    {
     "data": {
      "text/plain": [
       "<matplotlib.image.AxesImage at 0x7fd44008e780>"
      ]
     },
     "execution_count": 5,
     "metadata": {},
     "output_type": "execute_result"
    },
    {
     "data": {
      "image/png": "[encoded data removed]",
      "text/plain": [
       "<Figure size 432x288 with 1 Axes>"
      ]
     },
     "metadata": {
      "needs_background": "light"
     },
     "output_type": "display_data"
    }
   ],
   "source": [
    "plt.imshow(image)"
   ]
  },
  {
   "cell_type": "markdown",
   "metadata": {},
   "source": [
    "The dataset includes 20000 training images and 5000 test images, each image at a different resolution. Loading all this data at once requires too much memory, so we will need to **resize** each image to a smaller, common size as we load them from disk. We can do so by again making use of a *scikit-image* function. For example:"
   ]
  },
  {
   "cell_type": "code",
   "execution_count": 236,
   "metadata": {},
   "outputs": [
    {
     "name": "stderr",
     "output_type": "stream",
     "text": [
      "/home/stefano/anaconda3/envs/deeplearning-labs/lib/python3.6/site-packages/skimage/transform/_warps.py:110: UserWarning: Anti-aliasing will be enabled by default in skimage 0.15 to avoid aliasing artifacts when down-sampling images.\n",
      "  warn(\"Anti-aliasing will be enabled by default in skimage 0.15 to \"\n"
     ]
    },
    {
     "data": {
      "text/plain": [
       "<matplotlib.image.AxesImage at 0x7fd20a210278>"
      ]
     },
     "execution_count": 236,
     "metadata": {},
     "output_type": "execute_result"
    },
    {
     "data": {
      "image/png": "[encoded data removed]",
      "text/plain": [
       "<Figure size 432x288 with 1 Axes>"
      ]
     },
     "metadata": {
      "needs_background": "light"
     },
     "output_type": "display_data"
    }
   ],
   "source": [
    "from skimage.transform import resize\n",
    "\n",
    "size = 64\n",
    "smallimage = resize(image, (64, 64, 3), mode=\"reflect\")  # 64 x 64 pixels, 3 color channels\n",
    "plt.imshow(smallimage)"
   ]
  },
  {
   "cell_type": "markdown",
   "metadata": {},
   "source": [
    "<img src=\"img/question.png\" height=\"80\" width=\"80\" style=\"float: right;\"/>\n",
    "\n",
    "***\n",
    "\n",
    "<font color=#ad3e26>\n",
    "    \n",
    "Perform the following tasks to prepare the data:\n",
    "- Build a numpy array *X_train* containing one entry for each training image in the data. Each entry must contain the 3-dimensional matrix of pixels corresponding to an image. Make sure to scale down each image to a common size\n",
    "- Normalize *X_train* so that pixels follow a distribution lying in the range [-0.5,0.5]\n",
    "- Build a corresponding array *Y_train* with the class of each training image (0 for cats and 1 for dogs).\n",
    "- Randomly shuffle the data. Make sure you shuffle both *X_train* and *Y_train* using the same permutation, so you don't lose track of the class of each training pattern.\n",
    "\n",
    "- Repeat the whole procedure again to generate *X_test* and *Y_test* matrices for the test data.\n",
    "</font>\n",
    "\n",
    "***"
   ]
  },
  {
   "cell_type": "markdown",
   "metadata": {},
   "source": [
    "<img src=\"img/exclamation.png\" height=\"80\" width=\"80\" style=\"float: right;\"/>\n",
    "\n",
    "***\n",
    "<font color=#2655ad>\n",
    "- Take advantage of the *glob* package to generate the filename lists for the indoor and outdoor subfolders.\n",
    "- Since you need to repeat the procedure both for training and test data, it would be useful to implement a function that performs all the data loading and transforming steps.\n",
    "</font>\n",
    "\n",
    "***"
   ]
  },
  {
   "cell_type": "markdown",
   "metadata": {},
   "source": [
    "### Loading the data"
   ]
  },
  {
   "cell_type": "code",
   "execution_count": 237,
   "metadata": {},
   "outputs": [],
   "source": [
    "from skimage.io import imread\n",
    "from skimage.transform import resize\n",
    "\n",
    "catpathtrain = '/home/stefano/Dropbox/Aprendizaje util/Programacion learning/aavanzados/neural networks/train/cats/cat.'\n",
    "dogpathtrain = '/home/stefano/Dropbox/Aprendizaje util/Programacion learning/aavanzados/neural networks/train/dogs/dog.'\n",
    "\n",
    "\n",
    "def imageloaading(imgs_to_load, sequence_to_use,filetype,\n",
    "                  size_of_resizing = 64 ,ncolor_channels = 3 ,transf_mode = \"reflect\"):\n",
    "    \n",
    "    listofpower = []\n",
    "    \n",
    "    for i in sequence_to_use:\n",
    "        try:\n",
    "            image = imread(imgs_to_load + str(i) + filetype)\n",
    "            smallimage = resize(image, (size_of_resizing, size_of_resizing, ncolor_channels), mode=\"reflect\")\n",
    "            listofpower.append(smallimage)\n",
    "            \n",
    "        except FileNotFoundError:\n",
    "            continue\n",
    "    return(listofpower)\n",
    "        \n",
    "cattraindata = imageloaading(catpathtrain,range(0,12500),'.jpg')\n",
    "\n",
    "\n"
   ]
  },
  {
   "cell_type": "code",
   "execution_count": 238,
   "metadata": {},
   "outputs": [],
   "source": [
    "dogtraindata = imageloaading(dogpathtrain,range(0,12500),'.jpg')"
   ]
  },
  {
   "cell_type": "markdown",
   "metadata": {},
   "source": [
    "### Experimenting transforming the data into arrays"
   ]
  },
  {
   "cell_type": "code",
   "execution_count": 241,
   "metadata": {},
   "outputs": [
    {
     "data": {
      "text/plain": [
       "<matplotlib.image.AxesImage at 0x7fd43cd13780>"
      ]
     },
     "execution_count": 241,
     "metadata": {},
     "output_type": "execute_result"
    },
    {
     "data": {
      "image/png": "[encoded data removed]",
      "text/plain": [
       "<Figure size 432x288 with 1 Axes>"
      ]
     },
     "metadata": {
      "needs_background": "light"
     },
     "output_type": "display_data"
    }
   ],
   "source": [
    "\n",
    "plt.imshow(dogtraindata[2])"
   ]
  },
  {
   "cell_type": "code",
   "execution_count": 9,
   "metadata": {},
   "outputs": [],
   "source": [
    "import numpy as np\n",
    "dogtraindatarray = np.array(dogtraindata)\n",
    "cattraindataarray = np.array(cattraindata)"
   ]
  },
  {
   "cell_type": "code",
   "execution_count": 10,
   "metadata": {},
   "outputs": [
    {
     "name": "stdout",
     "output_type": "stream",
     "text": [
      "10000\n",
      "(10000, 64, 64, 3)\n"
     ]
    }
   ],
   "source": [
    "print(len(dogtraindatarray))\n",
    "print(dogtraindatarray.shape)"
   ]
  },
  {
   "cell_type": "code",
   "execution_count": 11,
   "metadata": {},
   "outputs": [
    {
     "name": "stdout",
     "output_type": "stream",
     "text": [
      "10000\n",
      "(10000, 64, 64, 3)\n"
     ]
    }
   ],
   "source": [
    "print(len(cattraindataarray))\n",
    "print(cattraindataarray.shape)"
   ]
  },
  {
   "cell_type": "code",
   "execution_count": 12,
   "metadata": {},
   "outputs": [],
   "source": [
    "catYtrainarray = np.zeros((10000,1))\n",
    "dogYtrainarray = np.ones((10000,1))"
   ]
  },
  {
   "cell_type": "markdown",
   "metadata": {},
   "source": [
    "### Concatenating the data creating x and Y train\n"
   ]
  },
  {
   "cell_type": "code",
   "execution_count": 13,
   "metadata": {},
   "outputs": [],
   "source": [
    "X_data = np.concatenate((dogtraindatarray,cattraindataarray ))"
   ]
  },
  {
   "cell_type": "code",
   "execution_count": 14,
   "metadata": {},
   "outputs": [],
   "source": [
    "Y_data = np.concatenate((dogYtrainarray,catYtrainarray ))"
   ]
  },
  {
   "cell_type": "code",
   "execution_count": 15,
   "metadata": {},
   "outputs": [
    {
     "name": "stdout",
     "output_type": "stream",
     "text": [
      "20000\n",
      "(20000, 64, 64, 3)\n"
     ]
    }
   ],
   "source": [
    "print(len(X_data))\n",
    "print(X_data.shape)"
   ]
  },
  {
   "cell_type": "code",
   "execution_count": 16,
   "metadata": {},
   "outputs": [
    {
     "name": "stdout",
     "output_type": "stream",
     "text": [
      "20000\n",
      "(20000, 1)\n"
     ]
    }
   ],
   "source": [
    "print(len(Y_data))\n",
    "print(Y_data.shape)"
   ]
  },
  {
   "cell_type": "markdown",
   "metadata": {},
   "source": [
    "### Normalizing the data"
   ]
  },
  {
   "cell_type": "code",
   "execution_count": 17,
   "metadata": {},
   "outputs": [],
   "source": [
    "\n",
    "standardized_images_X_data = X_data/ 255"
   ]
  },
  {
   "cell_type": "code",
   "execution_count": 19,
   "metadata": {},
   "outputs": [
    {
     "name": "stdout",
     "output_type": "stream",
     "text": [
      "20000\n",
      "(20000, 64, 64, 3)\n"
     ]
    }
   ],
   "source": [
    "print(len(standardized_images_X_data))\n",
    "print(standardized_images_X_data.shape)"
   ]
  },
  {
   "cell_type": "code",
   "execution_count": 20,
   "metadata": {},
   "outputs": [
    {
     "data": {
      "text/plain": [
       "array([[[[1.76565673e-03, 1.73489933e-03, 1.94094988e-03],\n",
       "         [2.21981930e-03, 2.20444060e-03, 2.32146290e-03],\n",
       "         [2.45410419e-03, 2.46948289e-03, 2.54637639e-03],\n",
       "         ...,\n",
       "         [2.34178448e-03, 2.37254189e-03, 2.55708629e-03],\n",
       "         [2.14379780e-03, 2.17455520e-03, 2.35909960e-03],\n",
       "         [2.05725131e-03, 2.08800871e-03, 2.27255311e-03]],\n",
       "\n",
       "        [[1.84388216e-03, 1.81312476e-03, 2.01917532e-03],\n",
       "         [2.24601115e-03, 2.23063245e-03, 2.34765475e-03],\n",
       "         [2.44965879e-03, 2.46503749e-03, 2.54193099e-03],\n",
       "         ...,\n",
       "         [2.37252499e-03, 2.40328239e-03, 2.58782680e-03],\n",
       "         [2.27391226e-03, 2.30466967e-03, 2.48921407e-03],\n",
       "         [2.14208478e-03, 2.17284218e-03, 2.35738658e-03]],\n",
       "\n",
       "        [[1.91945406e-03, 1.88869666e-03, 2.09474721e-03],\n",
       "         [2.24793349e-03, 2.23255479e-03, 2.34957709e-03],\n",
       "         [2.53510049e-03, 2.55047920e-03, 2.62737270e-03],\n",
       "         ...,\n",
       "         [2.42981684e-03, 2.46057425e-03, 2.64511865e-03],\n",
       "         [2.27376490e-03, 2.30452230e-03, 2.48906671e-03],\n",
       "         [2.22138120e-03, 2.25213860e-03, 2.43668301e-03]],\n",
       "\n",
       "        ...,\n",
       "\n",
       "        [[2.26014990e-03, 2.14213171e-03, 3.21598063e-03],\n",
       "         [1.59949655e-03, 1.30634007e-03, 1.84327298e-03],\n",
       "         [1.60007006e-03, 1.49238349e-03, 1.73849620e-03],\n",
       "         ...,\n",
       "         [1.22451119e-03, 1.34778109e-03, 1.39379704e-03],\n",
       "         [1.05333961e-03, 1.20712662e-03, 1.23788402e-03],\n",
       "         [9.65219957e-04, 1.11900696e-03, 1.14976436e-03]],\n",
       "\n",
       "        [[1.13639248e-03, 1.20601526e-03, 1.36950688e-03],\n",
       "         [1.20479128e-03, 1.30583414e-03, 1.34749762e-03],\n",
       "         [1.09272876e-03, 1.25317449e-03, 1.18304389e-03],\n",
       "         ...,\n",
       "         [9.82915225e-04, 1.10618512e-03, 1.15220108e-03],\n",
       "         [1.02046651e-03, 1.17425352e-03, 1.20501092e-03],\n",
       "         [9.02177047e-04, 1.05596405e-03, 1.08672145e-03]],\n",
       "\n",
       "        [[1.10860869e-03, 1.20388455e-03, 1.25927190e-03],\n",
       "         [1.01126970e-03, 1.18944637e-03, 1.21720012e-03],\n",
       "         [1.17926774e-03, 1.33317489e-03, 1.36393229e-03],\n",
       "         ...,\n",
       "         [1.06725779e-03, 1.22092464e-03, 1.25204248e-03],\n",
       "         [1.03650038e-03, 1.17490869e-03, 1.25180219e-03],\n",
       "         [1.21363703e-03, 1.35204534e-03, 1.42893884e-03]]],\n",
       "\n",
       "\n",
       "       [[[2.09984404e-03, 1.59270736e-03, 1.12279063e-03],\n",
       "         [2.45291493e-03, 1.73016012e-03, 1.11496799e-03],\n",
       "         [2.09570181e-03, 1.41040161e-03, 8.34167786e-04],\n",
       "         ...,\n",
       "         [1.94168765e-03, 1.29890603e-03, 8.16879888e-04],\n",
       "         [1.42556536e-03, 8.91439928e-04, 4.95798829e-04],\n",
       "         [1.29813447e-03, 8.06016053e-04, 4.40051040e-04]],\n",
       "\n",
       "        [[1.18537360e-03, 8.86614373e-04, 5.64654745e-04],\n",
       "         [2.01365892e-03, 1.25566939e-03, 6.15663334e-04],\n",
       "         [1.83382931e-03, 1.30494619e-03, 8.62327966e-04],\n",
       "         ...,\n",
       "         [1.99156330e-03, 1.65887876e-03, 1.16375669e-03],\n",
       "         [1.47275087e-03, 1.26009227e-03, 7.79291994e-04],\n",
       "         [1.51741330e-03, 1.19746424e-03, 7.57489232e-04]],\n",
       "\n",
       "        [[1.41016132e-03, 1.23366670e-03, 7.64376044e-04],\n",
       "         [1.86392685e-03, 1.29713669e-03, 4.59218097e-04],\n",
       "         [1.84553135e-03, 1.31862501e-03, 7.25889870e-04],\n",
       "         ...,\n",
       "         [1.53783720e-03, 1.36867149e-03, 9.07244772e-04],\n",
       "         [1.45088428e-03, 1.35849193e-03, 1.01551424e-03],\n",
       "         [1.30921231e-03, 1.06364026e-03, 5.57945337e-04]],\n",
       "\n",
       "        ...,\n",
       "\n",
       "        [[3.81283641e-03, 3.81403130e-03, 3.62816529e-03],\n",
       "         [3.81117595e-03, 3.84229379e-03, 3.50420267e-03],\n",
       "         [3.87069239e-03, 3.89751782e-03, 3.58762818e-03],\n",
       "         ...,\n",
       "         [3.69774771e-03, 3.65173176e-03, 3.38981326e-03],\n",
       "         [3.61962177e-03, 3.57360582e-03, 3.31144703e-03],\n",
       "         [3.61364075e-03, 3.58252291e-03, 3.22917324e-03]],\n",
       "\n",
       "        [[3.81239994e-03, 3.81307670e-03, 3.65625413e-03],\n",
       "         [3.76703634e-03, 3.79779374e-03, 3.46197320e-03],\n",
       "         [3.75540657e-03, 3.77977652e-03, 3.47598617e-03],\n",
       "         ...,\n",
       "         [3.65278210e-03, 3.62202469e-03, 3.29907198e-03],\n",
       "         [3.43820867e-03, 3.40745127e-03, 3.05374116e-03],\n",
       "         [3.55716551e-03, 3.52640811e-03, 3.20345540e-03]],\n",
       "\n",
       "        [[3.80839100e-03, 3.76225490e-03, 3.52989235e-03],\n",
       "         [3.72485755e-03, 3.69410015e-03, 3.30963264e-03],\n",
       "         [3.81344371e-03, 3.78268631e-03, 3.43738642e-03],\n",
       "         ...,\n",
       "         [3.75240292e-03, 3.72164552e-03, 3.39869281e-03],\n",
       "         [3.73870627e-03, 3.70794887e-03, 3.35423875e-03],\n",
       "         [3.59712348e-03, 3.62788088e-03, 3.28954947e-03]]],\n",
       "\n",
       "\n",
       "       [[[3.05742439e-03, 2.67055396e-03, 2.19201205e-03],\n",
       "         [2.53771930e-03, 2.47546204e-03, 2.35139430e-03],\n",
       "         [2.26335630e-03, 2.58366580e-03, 2.92471646e-03],\n",
       "         ...,\n",
       "         [2.94830451e-03, 2.65610920e-03, 2.16031037e-03],\n",
       "         [2.56665950e-03, 2.25908549e-03, 1.71722659e-03],\n",
       "         [2.80897165e-03, 2.51507270e-03, 1.86973516e-03]],\n",
       "\n",
       "        [[2.49302871e-03, 2.12153698e-03, 1.56115399e-03],\n",
       "         [2.04545821e-03, 1.99877676e-03, 1.79309603e-03],\n",
       "         [2.42466840e-03, 2.76035659e-03, 3.00258333e-03],\n",
       "         ...,\n",
       "         [2.95308501e-03, 2.67626840e-03, 2.11256732e-03],\n",
       "         [2.94232255e-03, 2.66550594e-03, 2.07305615e-03],\n",
       "         [2.81817784e-03, 2.52850560e-03, 1.88764632e-03]],\n",
       "\n",
       "        [[2.38371547e-03, 2.02760244e-03, 1.39587426e-03],\n",
       "         [1.96203365e-03, 1.91685871e-03, 1.66455191e-03],\n",
       "         [2.53481703e-03, 2.87350887e-03, 3.05877416e-03],\n",
       "         ...,\n",
       "         [2.89073670e-03, 2.60154504e-03, 1.98803964e-03],\n",
       "         [2.89041381e-03, 2.61458277e-03, 2.03860238e-03],\n",
       "         [2.37613876e-03, 2.13832552e-03, 1.58922594e-03]],\n",
       "\n",
       "        ...,\n",
       "\n",
       "        [[2.73937514e-03, 2.63172424e-03, 2.53945204e-03],\n",
       "         [2.70304691e-03, 2.59539600e-03, 2.50312380e-03],\n",
       "         [2.75278739e-03, 2.64513649e-03, 2.55286428e-03],\n",
       "         ...,\n",
       "         [3.12226011e-03, 3.13423529e-03, 2.94069964e-03],\n",
       "         [3.06466882e-03, 2.95341354e-03, 2.80142872e-03],\n",
       "         [3.04488226e-03, 2.90243311e-03, 2.76402480e-03]],\n",
       "\n",
       "        [[2.72222710e-03, 2.61457620e-03, 2.52230400e-03],\n",
       "         [2.74089293e-03, 2.63324202e-03, 2.54096982e-03],\n",
       "         [2.82366138e-03, 2.71601048e-03, 2.62373828e-03],\n",
       "         ...,\n",
       "         [3.20933036e-03, 3.13243686e-03, 3.04016465e-03],\n",
       "         [3.26460977e-03, 3.18771626e-03, 3.09544406e-03],\n",
       "         [3.25507505e-03, 3.17818154e-03, 3.08590934e-03]],\n",
       "\n",
       "        [[2.81426934e-03, 2.73569379e-03, 2.67249694e-03],\n",
       "         [2.77419498e-03, 2.69561944e-03, 2.63242259e-03],\n",
       "         [2.71217801e-03, 2.63360246e-03, 2.57040561e-03],\n",
       "         ...,\n",
       "         [3.22571434e-03, 3.14882084e-03, 3.05654864e-03],\n",
       "         [3.30980629e-03, 3.23291278e-03, 3.14064058e-03],\n",
       "         [3.39553616e-03, 3.31864266e-03, 3.22637045e-03]]],\n",
       "\n",
       "\n",
       "       ...,\n",
       "\n",
       "\n",
       "       [[[3.38980200e-03, 3.42055940e-03, 3.40518070e-03],\n",
       "         [3.39869281e-03, 3.42945021e-03, 3.41407151e-03],\n",
       "         [3.39869281e-03, 3.42945021e-03, 3.41407151e-03],\n",
       "         ...,\n",
       "         [3.48908022e-03, 3.51935704e-03, 3.50542009e-03],\n",
       "         [3.38778955e-03, 3.41854695e-03, 3.40316825e-03],\n",
       "         [3.36554000e-03, 3.40542850e-03, 3.30644313e-03]],\n",
       "\n",
       "        [[3.39869281e-03, 3.42945021e-03, 3.41407151e-03],\n",
       "         [3.39869281e-03, 3.42945021e-03, 3.41407151e-03],\n",
       "         [3.39869281e-03, 3.42945021e-03, 3.41407151e-03],\n",
       "         ...,\n",
       "         [3.42896963e-03, 3.45924644e-03, 3.44530950e-03],\n",
       "         [3.41743560e-03, 3.44819300e-03, 3.43281430e-03],\n",
       "         [3.41407151e-03, 3.44482891e-03, 3.41603890e-03]],\n",
       "\n",
       "        [[3.39869281e-03, 3.42945021e-03, 3.41407151e-03],\n",
       "         [3.39869281e-03, 3.42945021e-03, 3.41407151e-03],\n",
       "         [3.39869281e-03, 3.42945021e-03, 3.41407151e-03],\n",
       "         ...,\n",
       "         [3.39917339e-03, 3.42945021e-03, 3.41551326e-03],\n",
       "         [3.38667820e-03, 3.41743560e-03, 3.40205690e-03],\n",
       "         [3.38331411e-03, 3.40494041e-03, 3.43621594e-03]],\n",
       "\n",
       "        ...,\n",
       "\n",
       "        [[2.10939002e-04, 2.10939002e-04, 2.07574911e-04],\n",
       "         [1.91880827e-04, 1.91880827e-04, 1.95244918e-04],\n",
       "         [1.87961061e-04, 1.89643106e-04, 1.93007197e-04],\n",
       "         ...,\n",
       "         [1.03436028e-03, 1.12778138e-03, 1.07035155e-03],\n",
       "         [1.30968257e-03, 1.35279250e-03, 1.30702434e-03],\n",
       "         [1.68890871e-03, 1.68990743e-03, 1.68077632e-03]],\n",
       "\n",
       "        [[4.10111195e-04, 3.94732495e-04, 4.71625997e-04],\n",
       "         [2.15061515e-04, 2.30440215e-04, 1.53546713e-04],\n",
       "         [2.37889273e-04, 1.76374471e-04, 1.38408304e-04],\n",
       "         ...,\n",
       "         [2.99208838e-04, 3.41229936e-04, 2.94245302e-04],\n",
       "         [4.70432045e-04, 4.61608816e-04, 4.30851415e-04],\n",
       "         [5.13511931e-04, 4.61128232e-04, 4.09225118e-04]],\n",
       "\n",
       "        [[3.02295091e-04, 2.10022888e-04, 2.40780289e-04],\n",
       "         [1.97520185e-04, 1.20626682e-04, 7.11264898e-05],\n",
       "         [1.59997056e-04, 1.59997056e-04, 3.69674524e-05],\n",
       "         ...,\n",
       "         [6.75221069e-04, 6.60803537e-04, 7.52595156e-04],\n",
       "         [5.70844146e-04, 5.55465446e-04, 6.47737649e-04],\n",
       "         [4.52740532e-04, 4.64755142e-04, 4.67143046e-04]]],\n",
       "\n",
       "\n",
       "       [[[2.66918072e-03, 2.65380202e-03, 2.73982663e-03],\n",
       "         [2.66551627e-03, 2.66551627e-03, 2.66551627e-03],\n",
       "         [2.62038639e-03, 2.62038639e-03, 2.62038639e-03],\n",
       "         ...,\n",
       "         [1.61496630e-03, 1.66110240e-03, 1.76875330e-03],\n",
       "         [1.67992779e-03, 1.72606389e-03, 1.83371480e-03],\n",
       "         [1.65152075e-03, 1.66641136e-03, 1.78319336e-03]],\n",
       "\n",
       "        [[2.76528258e-03, 2.74990388e-03, 2.83592849e-03],\n",
       "         [2.69559785e-03, 2.69559785e-03, 2.69559785e-03],\n",
       "         [2.71820033e-03, 2.71820033e-03, 2.71820033e-03],\n",
       "         ...,\n",
       "         [1.66102731e-03, 1.70716341e-03, 1.81481431e-03],\n",
       "         [1.65753556e-03, 1.70367166e-03, 1.81132257e-03],\n",
       "         [1.67961992e-03, 1.67582030e-03, 1.79930796e-03]],\n",
       "\n",
       "        [[2.77168036e-03, 2.75630166e-03, 2.84232627e-03],\n",
       "         [2.61774318e-03, 2.61774318e-03, 2.61774318e-03],\n",
       "         [2.69434382e-03, 2.69434382e-03, 2.69434382e-03],\n",
       "         ...,\n",
       "         [1.69219020e-03, 1.73832630e-03, 1.84597721e-03],\n",
       "         [1.66426374e-03, 1.71039985e-03, 1.81805075e-03],\n",
       "         [1.58973562e-03, 1.69265577e-03, 1.78104575e-03]],\n",
       "\n",
       "        ...,\n",
       "\n",
       "        [[2.74385903e-03, 2.72848033e-03, 2.82075254e-03],\n",
       "         [2.98010381e-03, 2.96472511e-03, 3.05699731e-03],\n",
       "         [3.01182238e-03, 3.05710244e-03, 3.13399594e-03],\n",
       "         ...,\n",
       "         [2.30839701e-03, 1.94718528e-03, 2.14010236e-03],\n",
       "         [3.36460886e-03, 2.99252391e-03, 2.32222132e-03],\n",
       "         [3.90875805e-03, 3.64831886e-03, 3.29665874e-03]],\n",
       "\n",
       "        [[3.24368182e-03, 3.22830312e-03, 3.32057532e-03],\n",
       "         [3.06324491e-03, 3.04786621e-03, 3.14013841e-03],\n",
       "         [3.10553633e-03, 3.10553633e-03, 3.13629373e-03],\n",
       "         ...,\n",
       "         [3.76905067e-03, 3.54158407e-03, 3.36193561e-03],\n",
       "         [3.00409548e-03, 2.49749195e-03, 2.24278222e-03],\n",
       "         [3.74990989e-03, 3.41780355e-03, 2.90303008e-03]],\n",
       "\n",
       "        [[3.14398308e-03, 3.12860438e-03, 3.22087659e-03],\n",
       "         [3.14634095e-03, 3.13096225e-03, 3.22323445e-03],\n",
       "         [3.12795860e-03, 2.99003088e-03, 3.00396782e-03],\n",
       "         ...,\n",
       "         [3.28630365e-03, 2.96067017e-03, 2.66503568e-03],\n",
       "         [3.47811689e-03, 3.02348406e-03, 2.63036603e-03],\n",
       "         [3.69278042e-03, 3.23670583e-03, 2.80080077e-03]]],\n",
       "\n",
       "\n",
       "       [[[8.12668205e-04, 5.27681661e-04, 4.31805075e-04],\n",
       "         [7.49951942e-04, 4.64965398e-04, 3.69088812e-04],\n",
       "         [8.15551711e-04, 5.27411332e-04, 4.33111664e-04],\n",
       "         ...,\n",
       "         [6.85959126e-04, 4.50713067e-04, 2.16428177e-04],\n",
       "         [8.16768190e-04, 5.81522131e-04, 3.47237240e-04],\n",
       "         [7.42577975e-04, 4.92914384e-04, 2.58629493e-04]],\n",
       "\n",
       "        [[8.79724745e-04, 4.49121131e-04, 4.02985030e-04],\n",
       "         [8.76585928e-04, 4.45982314e-04, 3.99846213e-04],\n",
       "         [8.40947592e-04, 4.37256704e-04, 3.84392421e-04],\n",
       "         ...,\n",
       "         [7.56454849e-04, 4.64259540e-04, 2.48957733e-04],\n",
       "         [6.51432141e-04, 3.59236832e-04, 1.43935025e-04],\n",
       "         [5.60376418e-04, 2.94372958e-04, 1.31454849e-04]],\n",
       "\n",
       "        [[8.97251057e-04, 4.96924260e-04, 4.27960400e-04],\n",
       "         [9.50836217e-04, 4.74096501e-04, 4.30603614e-04],\n",
       "         [9.47517181e-04, 4.56224769e-04, 4.17582781e-04],\n",
       "         ...,\n",
       "         [6.52017854e-04, 3.51892902e-04, 1.39234309e-04],\n",
       "         [7.42803249e-04, 4.42678297e-04, 2.30019704e-04],\n",
       "         [7.37186419e-04, 3.62811178e-04, 1.95808103e-04]],\n",
       "\n",
       "        ...,\n",
       "\n",
       "        [[1.99645269e-03, 1.61462839e-03, 1.27101055e-03],\n",
       "         [2.05699130e-03, 1.67516700e-03, 1.33154916e-03],\n",
       "         [1.93420199e-03, 1.55794947e-03, 1.18973171e-03],\n",
       "         ...,\n",
       "         [2.28047806e-03, 2.00366145e-03, 1.66533004e-03],\n",
       "         [2.10519992e-03, 1.82838331e-03, 1.49005190e-03],\n",
       "         [2.00005707e-03, 1.73597595e-03, 1.34141616e-03]],\n",
       "\n",
       "        [[1.89112961e-03, 1.53741950e-03, 1.04530109e-03],\n",
       "         [1.85011474e-03, 1.49640463e-03, 1.00428621e-03],\n",
       "         [1.85715830e-03, 1.51963788e-03, 1.08134492e-03],\n",
       "         ...,\n",
       "         [1.97822052e-03, 1.70140391e-03, 1.36307250e-03],\n",
       "         [2.03926975e-03, 1.76245314e-03, 1.42412173e-03],\n",
       "         [1.92858516e-03, 1.65176855e-03, 1.31343714e-03]],\n",
       "\n",
       "        [[1.94406899e-03, 1.55960148e-03, 1.22127006e-03],\n",
       "         [1.98358204e-03, 1.59911452e-03, 1.26078311e-03],\n",
       "         [2.06383963e-03, 1.72646939e-03, 1.38813798e-03],\n",
       "         ...,\n",
       "         [2.09853181e-03, 1.82171521e-03, 1.48338379e-03],\n",
       "         [2.16962827e-03, 1.89281166e-03, 1.55448025e-03],\n",
       "         [2.04688401e-03, 1.75468870e-03, 1.49325079e-03]]]])"
      ]
     },
     "execution_count": 20,
     "metadata": {},
     "output_type": "execute_result"
    }
   ],
   "source": [
    "standardized_images_X_data"
   ]
  },
  {
   "cell_type": "markdown",
   "metadata": {},
   "source": [
    "### Shuffling the data"
   ]
  },
  {
   "cell_type": "code",
   "execution_count": 21,
   "metadata": {},
   "outputs": [],
   "source": [
    "np.random.seed(42)\n",
    "np.random.shuffle(standardized_images_X_data)\n",
    "np.random.seed(42)\n",
    "np.random.shuffle(Y_data)"
   ]
  },
  {
   "cell_type": "markdown",
   "metadata": {},
   "source": [
    "### Proving the shuffle works"
   ]
  },
  {
   "cell_type": "code",
   "execution_count": null,
   "metadata": {},
   "outputs": [],
   "source": [
    "p = np.array(range(1,900))\n"
   ]
  },
  {
   "cell_type": "code",
   "execution_count": null,
   "metadata": {},
   "outputs": [],
   "source": [
    "np.random.seed(42)\n",
    "np.random.shuffle(p)"
   ]
  },
  {
   "cell_type": "code",
   "execution_count": null,
   "metadata": {},
   "outputs": [],
   "source": [
    "p"
   ]
  },
  {
   "cell_type": "markdown",
   "metadata": {},
   "source": [
    "##  Separating in training and test"
   ]
  },
  {
   "cell_type": "code",
   "execution_count": 22,
   "metadata": {},
   "outputs": [],
   "source": [
    ">>> import numpy as np\n",
    ">>> from sklearn.model_selection import train_test_split\n",
    "\n",
    "X_train, X_test, Y_train, Y_test = train_test_split(\n",
    "    standardized_images_X_data, Y_data, test_size=0.33, random_state=42)"
   ]
  },
  {
   "cell_type": "markdown",
   "metadata": {},
   "source": [
    "If everything has been properly loaded both X_train and Y_train lists should have equal length, and the same should happen for the pair X_test and Y_test."
   ]
  },
  {
   "cell_type": "code",
   "execution_count": 23,
   "metadata": {},
   "outputs": [
    {
     "name": "stdout",
     "output_type": "stream",
     "text": [
      "X_train size 13400\n",
      "Y_train size 13400\n",
      "X_test size 6600\n",
      "Y_test size 6600\n"
     ]
    }
   ],
   "source": [
    "print(\"X_train size\", len(X_train))\n",
    "print(\"Y_train size\", len(Y_train))\n",
    "print(\"X_test size\", len(X_test))\n",
    "print(\"Y_test size\", len(Y_test))"
   ]
  },
  {
   "cell_type": "markdown",
   "metadata": {},
   "source": [
    "## Basic deep model"
   ]
  },
  {
   "cell_type": "markdown",
   "metadata": {},
   "source": [
    "# Defining the  network architecture:\n",
    "We are going to use  the basic LeNet-5 architecture, we are goin to stard by adding two colums of padding to the images, one layer of convolution for with a kernel size of 12 x 12 x 6 , ( the image that we want to recognize is of entire animals, some times, they correspond to the entirety of the picture, ,makes sense because of this tu use big sized kernels. \n"
   ]
  },
  {
   "cell_type": "code",
   "execution_count": 50,
   "metadata": {},
   "outputs": [],
   "source": [
    "def calc_layer_output_shape_in_convolution(Nsize_of_the_original,N_channel_of_the_input,Nsizeof_kernel,numberofkernels = 1,\n",
    "                            stridecols = 1, paddingval = 0):\n",
    "    \n",
    "    Nsize_of_resulting = int(((Nsize_of_the_original + (2*paddingval) - Nsizeof_kernel)/stridecols) + 1)\n",
    "    print(\"resulting layer is \" +  str(Nsize_of_resulting) + \"x\" + str(Nsize_of_resulting) +\"x\" + str(numberofkernels))\n",
    "    \n",
    "def calc_layer_output_shape_in_pooling(Nsize_of_the_original,N_channel_of_the_input,Nsizeof_pooling,\n",
    "                            stridecols = 1):\n",
    "    Nsize_of_resulting = int(Nsize_of_the_original /Nsizeof_pooling)\n",
    "    print(\"resulting layer is \" +  str(Nsize_of_resulting) + \"x\" + str(Nsize_of_resulting) +\"x\" + str(N_channel_of_the_input))\n",
    "    \n",
    "    \n",
    "\n",
    "    \n",
    "    \n",
    "\n",
    "\n"
   ]
  },
  {
   "cell_type": "code",
   "execution_count": null,
   "metadata": {},
   "outputs": [],
   "source": []
  },
  {
   "cell_type": "code",
   "execution_count": 110,
   "metadata": {},
   "outputs": [
    {
     "name": "stdout",
     "output_type": "stream",
     "text": [
      "resulting layer is 66x66x9\n"
     ]
    }
   ],
   "source": [
    "calc_layer_output_shape_in_convolution(Nsize_of_the_original = 64,\n",
    "                        N_channel_of_the_input= 3 ,\n",
    "                        Nsizeof_kernel= 5,\n",
    "                        numberofkernels = 9,\n",
    "                        stridecols = 1,\n",
    "                        paddingval = 3)\n",
    "\n",
    "\n",
    "\n",
    "\n",
    "\n",
    "\n"
   ]
  },
  {
   "cell_type": "code",
   "execution_count": 111,
   "metadata": {},
   "outputs": [
    {
     "name": "stdout",
     "output_type": "stream",
     "text": [
      "resulting layer is 33x33x9\n"
     ]
    }
   ],
   "source": [
    "calc_layer_output_shape_in_pooling(Nsize_of_the_original= 66,N_channel_of_the_input=9 ,Nsizeof_pooling = 2 ,\n",
    "                            stridecols = 1)"
   ]
  },
  {
   "cell_type": "code",
   "execution_count": 115,
   "metadata": {},
   "outputs": [
    {
     "name": "stdout",
     "output_type": "stream",
     "text": [
      "resulting layer is 27x27x15\n"
     ]
    }
   ],
   "source": [
    "calc_layer_output_shape_in_convolution(Nsize_of_the_original = 33,\n",
    "                        N_channel_of_the_input= 9 ,\n",
    "                        Nsizeof_kernel= 7,\n",
    "                        numberofkernels = 15,\n",
    "                        stridecols = 1,\n",
    "                        paddingval = 0)"
   ]
  },
  {
   "cell_type": "code",
   "execution_count": 116,
   "metadata": {},
   "outputs": [
    {
     "name": "stdout",
     "output_type": "stream",
     "text": [
      "resulting layer is 13x13x15\n"
     ]
    }
   ],
   "source": [
    "calc_layer_output_shape_in_pooling(Nsize_of_the_original= 27,N_channel_of_the_input=15 ,Nsizeof_pooling = 2 ,\n",
    "                            stridecols = 1)"
   ]
  },
  {
   "cell_type": "code",
   "execution_count": 117,
   "metadata": {},
   "outputs": [
    {
     "name": "stdout",
     "output_type": "stream",
     "text": [
      "resulting layer is 4x4x3\n"
     ]
    }
   ],
   "source": [
    "calc_layer_output_shape_in_convolution(Nsize_of_the_original = 12,\n",
    "                        N_channel_of_the_input= 15 ,\n",
    "                        Nsizeof_kernel= 9,\n",
    "                        numberofkernels = 3,\n",
    "                        stridecols = 1,\n",
    "                        paddingval = 0)"
   ]
  },
  {
   "cell_type": "code",
   "execution_count": null,
   "metadata": {},
   "outputs": [],
   "source": [
    "Sigmoid function"
   ]
  },
  {
   "cell_type": "markdown",
   "metadata": {},
   "source": [
    "### Implementing the neural network "
   ]
  },
  {
   "cell_type": "code",
   "execution_count": 211,
   "metadata": {},
   "outputs": [],
   "source": [
    "from keras.models import Sequential\n",
    "from keras.layers.core import Dense\n",
    "from keras.layers.core import Activation\n",
    "from keras.layers.core import Dropout\n",
    "from keras.layers.core import Flatten\n",
    "\n",
    "\n",
    "deepcatvsdognn_1 = Sequential()\n"
   ]
  },
  {
   "cell_type": "code",
   "execution_count": 212,
   "metadata": {},
   "outputs": [],
   "source": [
    "from keras.layers.convolutional import Conv2D, MaxPooling2D\n",
    "deepcatvsdognn_1.add(Conv2D(filters = 9, kernel_size = 5, strides=2, padding='valid', data_format=None, dilation_rate=(1, 1),\n",
    "                                     activation=None, use_bias=True, kernel_initializer='glorot_uniform', bias_initializer='zeros',\n",
    "                                     kernel_regularizer=None, bias_regularizer=None,\n",
    "                                     activity_regularizer=None, kernel_constraint=None, bias_constraint=None))\n",
    "\n",
    "deepcatvsdognn_1.add(Activation('relu'))\n",
    "deepcatvsdognn_1.add(MaxPooling2D(pool_size=(2, 2), strides=(2, 2)))\n",
    "deepcatvsdognn_1.add(Dropout(0.3))\n",
    "\n",
    "\n"
   ]
  },
  {
   "cell_type": "code",
   "execution_count": 213,
   "metadata": {},
   "outputs": [],
   "source": [
    "deepcatvsdognn_1.add(Convolution2D(filters = 15, kernel_size = 7, strides=1, padding='valid', data_format=None, dilation_rate=(1, 1),\n",
    "                                     activation=None, use_bias=True, kernel_initializer='glorot_uniform', bias_initializer='zeros',\n",
    "                                     kernel_regularizer=None, bias_regularizer=None,\n",
    "                                     activity_regularizer=None, kernel_constraint=None, bias_constraint=None))\n",
    "\n",
    "deepcatvsdognn_1.add(Activation('relu'))\n",
    "deepcatvsdognn_1.add(MaxPooling2D(pool_size=(2, 2), strides=(2, 2)))\n",
    "deepcatvsdognn_1.add(Dropout(0.3))"
   ]
  },
  {
   "cell_type": "code",
   "execution_count": 214,
   "metadata": {},
   "outputs": [],
   "source": [
    "deepcatvsdognn_1.add(Conv2D(filters = 35, kernel_size = 2, strides=1, padding='valid', data_format=None, dilation_rate=(1, 1),\n",
    "                                     activation=None, use_bias=True, kernel_initializer='glorot_uniform', bias_initializer='zeros',\n",
    "                                     kernel_regularizer=None, bias_regularizer=None,\n",
    "                                     activity_regularizer=None, kernel_constraint=None, bias_constraint=None))\n",
    "\n",
    "deepcatvsdognn_1.add(Activation('relu'))\n",
    "deepcatvsdognn_1.add(MaxPooling2D(pool_size=(2, 2), strides=(2, 2)))\n",
    "deepcatvsdognn_1.add(Dropout(0.3))"
   ]
  },
  {
   "cell_type": "code",
   "execution_count": 215,
   "metadata": {},
   "outputs": [],
   "source": [
    "deepcatvsdognn_1.add(Flatten())\n",
    "deepcatvsdognn_1.add(Dense(250))\n",
    "deepcatvsdognn_1.add(Activation('relu'))"
   ]
  },
  {
   "cell_type": "code",
   "execution_count": 216,
   "metadata": {},
   "outputs": [],
   "source": [
    "deepcatvsdognn_1.add(Dropout(0.5))\n",
    "deepcatvsdognn_1.add(Dense(1))\n",
    "deepcatvsdognn_1.add(Activation('tanh'))"
   ]
  },
  {
   "cell_type": "markdown",
   "metadata": {},
   "source": [
    "## Training the neural network "
   ]
  },
  {
   "cell_type": "code",
   "execution_count": 217,
   "metadata": {},
   "outputs": [],
   "source": [
    "deepcatvsdognn_1.compile(loss='binary_crossentropy', optimizer='adam', metrics=[\"accuracy\"])"
   ]
  },
  {
   "cell_type": "code",
   "execution_count": 218,
   "metadata": {},
   "outputs": [
    {
     "name": "stdout",
     "output_type": "stream",
     "text": [
      "Epoch 1/3\n",
      " - 4s - loss: 4.2081 - acc: 0.5053\n",
      "Epoch 2/3\n",
      " - 4s - loss: 1.6791 - acc: 0.5053\n",
      "Epoch 3/3\n",
      " - 4s - loss: 1.4504 - acc: 0.5053\n"
     ]
    },
    {
     "data": {
      "text/plain": [
       "<keras.callbacks.History at 0x7fd20b737240>"
      ]
     },
     "execution_count": 218,
     "metadata": {},
     "output_type": "execute_result"
    }
   ],
   "source": [
    "deepcatvsdognn_1.fit(\n",
    "    X_train, # Training data\n",
    "    Y_train, # Labels of training data\n",
    "    batch_size=6000, # Batch size for the optimizer algorithm\n",
    "    epochs=3, # Number of epochs to run the optimizer algorithm\n",
    "    verbose=2 # Level of verbosity of the log messages\n",
    ")"
   ]
  },
  {
   "cell_type": "code",
   "execution_count": 201,
   "metadata": {},
   "outputs": [
    {
     "name": "stdout",
     "output_type": "stream",
     "text": [
      "6600/6600 [==============================] - 1s 196us/step\n",
      "Test loss 0.7336685513005112\n",
      "Test accuracy 0.48924242424242426\n"
     ]
    }
   ],
   "source": [
    "score = deepcatvsdognn_1 .evaluate(X_test, Y_test)\n",
    "print(\"Test loss\", score[0])\n",
    "print(\"Test accuracy\", score[1])"
   ]
  },
  {
   "cell_type": "markdown",
   "metadata": {},
   "source": [
    "## Second neural network "
   ]
  },
  {
   "cell_type": "code",
   "execution_count": 227,
   "metadata": {},
   "outputs": [],
   "source": [
    "deepcatvsdognn_2 = Sequential()"
   ]
  },
  {
   "cell_type": "code",
   "execution_count": 228,
   "metadata": {},
   "outputs": [],
   "source": [
    "from keras.layers.convolutional import Conv2D, MaxPooling2D\n",
    "deepcatvsdognn_2.add(Conv2D(filters = 32, kernel_size = 3, strides=2, padding='valid', data_format=None, dilation_rate=(1, 1),\n",
    "                                     activation=None, use_bias=True, kernel_initializer='glorot_uniform', bias_initializer='zeros',\n",
    "                                     kernel_regularizer=None, bias_regularizer=None,\n",
    "                                     activity_regularizer=None, kernel_constraint=None, bias_constraint=None))\n",
    "\n",
    "deepcatvsdognn_2.add(Activation('relu'))\n",
    "\n"
   ]
  },
  {
   "cell_type": "code",
   "execution_count": 229,
   "metadata": {},
   "outputs": [],
   "source": [
    "deepcatvsdognn_2.add(Convolution2D(filters = 32, kernel_size = 3, strides=1, padding='valid', data_format=None, dilation_rate=(1, 1),\n",
    "                                     activation=None, use_bias=True, kernel_initializer='glorot_uniform', bias_initializer='zeros',\n",
    "                                     kernel_regularizer=None, bias_regularizer=None,\n",
    "                                     activity_regularizer=None, kernel_constraint=None, bias_constraint=None))\n",
    "\n",
    "deepcatvsdognn_2.add(Activation('relu'))\n",
    "deepcatvsdognn_2.add(MaxPooling2D(pool_size=(2, 2), strides=(2, 2)))"
   ]
  },
  {
   "cell_type": "code",
   "execution_count": 230,
   "metadata": {},
   "outputs": [],
   "source": [
    "deepcatvsdognn_2.add(Convolution2D(filters = 32, kernel_size = 3, strides=1, padding='valid', data_format=None, dilation_rate=(1, 1),\n",
    "                                     activation=None, use_bias=True, kernel_initializer='glorot_uniform', bias_initializer='zeros',\n",
    "                                     kernel_regularizer=None, bias_regularizer=None,\n",
    "                                     activity_regularizer=None, kernel_constraint=None, bias_constraint=None))\n",
    "\n",
    "deepcatvsdognn_2.add(Activation('relu'))\n",
    "deepcatvsdognn_2.add(MaxPooling2D(pool_size=(2, 2), strides=(2, 2)))"
   ]
  },
  {
   "cell_type": "code",
   "execution_count": 231,
   "metadata": {},
   "outputs": [],
   "source": [
    "deepcatvsdognn_2.add(Flatten())\n",
    "deepcatvsdognn_2.add(Dense(250))\n",
    "deepcatvsdognn_2.add(Activation('relu'))"
   ]
  },
  {
   "cell_type": "code",
   "execution_count": 232,
   "metadata": {},
   "outputs": [],
   "source": [
    "deepcatvsdognn_2.add(Dense(1))\n",
    "deepcatvsdognn_2.add(Activation('tanh'))"
   ]
  },
  {
   "cell_type": "code",
   "execution_count": null,
   "metadata": {},
   "outputs": [],
   "source": []
  },
  {
   "cell_type": "code",
   "execution_count": 233,
   "metadata": {},
   "outputs": [],
   "source": [
    "deepcatvsdognn_2.compile(loss='binary_crossentropy', optimizer='adam', metrics=[\"accuracy\"])"
   ]
  },
  {
   "cell_type": "code",
   "execution_count": 234,
   "metadata": {},
   "outputs": [
    {
     "name": "stdout",
     "output_type": "stream",
     "text": [
      "Epoch 1/34\n",
      " - 6s - loss: 7.9736 - acc: 0.5053\n",
      "Epoch 2/34\n",
      " - 5s - loss: 7.9736 - acc: 0.5053\n",
      "Epoch 3/34\n",
      " - 5s - loss: 7.9736 - acc: 0.5053\n",
      "Epoch 4/34\n",
      " - 7s - loss: 7.9736 - acc: 0.5053\n",
      "Epoch 5/34\n",
      " - 7s - loss: 7.9736 - acc: 0.5053\n",
      "Epoch 6/34\n",
      " - 6s - loss: 7.9736 - acc: 0.5053\n",
      "Epoch 7/34\n",
      " - 6s - loss: 7.9736 - acc: 0.5053\n",
      "Epoch 8/34\n",
      " - 6s - loss: 7.9736 - acc: 0.5053\n",
      "Epoch 9/34\n",
      " - 6s - loss: 7.9736 - acc: 0.5053\n",
      "Epoch 10/34\n",
      " - 5s - loss: 7.9736 - acc: 0.5053\n",
      "Epoch 11/34\n",
      " - 5s - loss: 7.9736 - acc: 0.5053\n",
      "Epoch 12/34\n",
      " - 6s - loss: 7.9736 - acc: 0.5053\n",
      "Epoch 13/34\n",
      " - 5s - loss: 7.9736 - acc: 0.5053\n",
      "Epoch 14/34\n",
      " - 6s - loss: 7.9736 - acc: 0.5053\n",
      "Epoch 15/34\n",
      " - 6s - loss: 7.9736 - acc: 0.5053\n",
      "Epoch 16/34\n",
      " - 6s - loss: 7.9736 - acc: 0.5053\n",
      "Epoch 17/34\n",
      " - 6s - loss: 7.9736 - acc: 0.5053\n",
      "Epoch 18/34\n",
      " - 7s - loss: 7.9736 - acc: 0.5053\n",
      "Epoch 19/34\n",
      " - 7s - loss: 7.9736 - acc: 0.5053\n",
      "Epoch 20/34\n",
      " - 6s - loss: 7.9736 - acc: 0.5053\n",
      "Epoch 21/34\n",
      " - 6s - loss: 7.9736 - acc: 0.5053\n",
      "Epoch 22/34\n",
      " - 6s - loss: 7.9736 - acc: 0.5053\n",
      "Epoch 23/34\n",
      " - 6s - loss: 7.9736 - acc: 0.5053\n",
      "Epoch 24/34\n",
      " - 6s - loss: 7.9736 - acc: 0.5053\n",
      "Epoch 25/34\n",
      " - 5s - loss: 7.9736 - acc: 0.5053\n",
      "Epoch 26/34\n",
      " - 5s - loss: 7.9736 - acc: 0.5053\n",
      "Epoch 27/34\n",
      " - 6s - loss: 7.9736 - acc: 0.5053\n",
      "Epoch 28/34\n",
      " - 5s - loss: 7.9736 - acc: 0.5053\n",
      "Epoch 29/34\n",
      " - 5s - loss: 7.9736 - acc: 0.5053\n",
      "Epoch 30/34\n",
      " - 8s - loss: 7.9736 - acc: 0.5053\n",
      "Epoch 31/34\n",
      " - 7s - loss: 7.9736 - acc: 0.5053\n",
      "Epoch 32/34\n",
      " - 6s - loss: 7.9736 - acc: 0.5053\n",
      "Epoch 33/34\n",
      " - 5s - loss: 7.9736 - acc: 0.5053\n",
      "Epoch 34/34\n",
      " - 6s - loss: 7.9736 - acc: 0.5053\n"
     ]
    },
    {
     "data": {
      "text/plain": [
       "<keras.callbacks.History at 0x7fd209a9add8>"
      ]
     },
     "execution_count": 234,
     "metadata": {},
     "output_type": "execute_result"
    }
   ],
   "source": [
    "deepcatvsdognn_2.fit(\n",
    "    X_train, # Training data\n",
    "    Y_train, # Labels of training data\n",
    "    batch_size=400, # Batch size for the optimizer algorithm\n",
    "    epochs=34, # Number of epochs to run the optimizer algorithm\n",
    "    verbose=2 # Level of verbosity of the log messages\n",
    ")"
   ]
  },
  {
   "cell_type": "code",
   "execution_count": 235,
   "metadata": {},
   "outputs": [
    {
     "name": "stdout",
     "output_type": "stream",
     "text": [
      "6600/6600 [==============================] - 2s 249us/step\n",
      "Test loss 8.232439411047734\n",
      "Test accuracy 0.48924242424242426\n"
     ]
    }
   ],
   "source": [
    "score2 = deepcatvsdognn_2 .evaluate(X_test, Y_test)\n",
    "print(\"Test loss\", score2[0])\n",
    "print(\"Test accuracy\", score2[1])"
   ]
  },
  {
   "cell_type": "markdown",
   "metadata": {},
   "source": [
    "<img src=\"img/question.png\" height=\"80\" width=\"80\" style=\"float: right;\"/>\n",
    "\n",
    "***\n",
    "<font color=#ad3e26>\n",
    "Create a deep network that achieves at least a 60% of accuracy in the test set. Make use of the layers you seem fit for problem. You cannot use the test data for fitting the network, but you can use it to check the final performance of different network architectures, and select the architecture performing best.</font>\n",
    "\n",
    "***"
   ]
  },
  {
   "cell_type": "markdown",
   "metadata": {},
   "source": [
    "<img src=\"img/exclamation.png\" height=\"80\" width=\"80\" style=\"float: right;\"/>\n",
    "\n",
    "***\n",
    "<font color=#2655ad>\n",
    "    \n",
    "If you are unable to attain the required 60% of accuracy, or your accuracy is too close to 100%, review the following checklist:\n",
    "- Have you mixed training and test data?\n",
    "- Have the values of the pixels been normalized?\n",
    "- Have you compiled the model with a loss function appropriate for **binary** classification?\n",
    "- Have you used ReLU units in the hidden layers? Have you used sigmoid or softmax layers in the output layer?\n",
    "\n",
    "***"
   ]
  },
  {
   "cell_type": "code",
   "execution_count": null,
   "metadata": {},
   "outputs": [],
   "source": [
    "####### INSERT YOUR CODE HERE"
   ]
  },
  {
   "cell_type": "markdown",
   "metadata": {},
   "source": [
    "## Improving the network"
   ]
  },
  {
   "cell_type": "markdown",
   "metadata": {},
   "source": [
    "<img src=\"img/pro.png\" height=\"80\" width=\"80\" style=\"float: right;\"/>\n",
    "\n",
    "***\n",
    "\n",
    "<font color=#259b4c>\n",
    "    \n",
    "You can further improve your results by applying one or more of the following strategies:\n",
    "- Keep apart a portion of the training data as a **validation set**. Then use an <a href=\"https://keras.io/callbacks/#earlystopping\">**EarlyStopping strategy**</a> to monitor the loss of these validation data, and stop when training when after a number of iterations such loss has not decreased.\n",
    "- Make use of **metamodelling techniques** to select the best architecture parameters for the networks. You can use scikit-learn methods GridSearchCV or RandomSearchCV. You can do those by using the <a href=\"https://keras.io/scikit-learn-api/\">KerasClassifier</a> wrapper. Even better, you can mix KerasClassifier with an advanced search method such as [BayesSearch](https://scikit-optimize.github.io/#skopt.BayesSearchCV), included in the [scikit-optimize](https://scikit-optimize.github.io/) library.\n",
    "- Use **image augmentation techniques** to artifically create new training images. To do so, you can make use of <a href=\"https://keras.io/preprocessing/image/\">ImageDataGenerator</a> in Keras.\n",
    "- Make use of a pre-trained large network, building your network on top of it. You can find some examples in the [Keras Applications](https://keras.io/applications/) page.\n",
    "\n",
    "If you correctly use these techniques you should be able to improve your model. With some effort it is possible to up to a 90% test accuracy. Try to do your best!</font>\n",
    "\n",
    "***"
   ]
  },
  {
   "cell_type": "code",
   "execution_count": null,
   "metadata": {},
   "outputs": [],
   "source": [
    "####### INSERT YOUR CODE HERE"
   ]
  },
  {
   "cell_type": "markdown",
   "metadata": {},
   "source": [
    "## Analyzing the results"
   ]
  },
  {
   "cell_type": "markdown",
   "metadata": {},
   "source": [
    "<img src=\"img/question.png\" height=\"80\" width=\"80\" style=\"float: right;\"/>\n",
    "\n",
    "***\n",
    "\n",
    "<font color=#ad3e26>\n",
    "Find and show some test images for which your model fails. Can you give an explanation for this behavior?</font>\n",
    "\n",
    "***"
   ]
  },
  {
   "cell_type": "code",
   "execution_count": null,
   "metadata": {},
   "outputs": [],
   "source": [
    "####### INSERT YOUR CODE HERE"
   ]
  },
  {
   "cell_type": "markdown",
   "metadata": {},
   "source": [
    "<img src=\"img/question.png\" height=\"80\" width=\"80\" style=\"float: right;\"/>\n",
    "\n",
    "***\n",
    "\n",
    "<font color=#ad3e26>\n",
    "Write a small report summarizing the network choices you have tried, what worked and what didn't. What have you learned from this experience?</font>\n",
    "\n",
    "***"
   ]
  }
 ],
 "metadata": {
  "anaconda-cloud": {},
  "kernelspec": {
   "display_name": "Python 3",
   "language": "python",
   "name": "python3"
  },
  "language_info": {
   "codemirror_mode": {
    "name": "ipython",
    "version": 3
   },
   "file_extension": ".py",
   "mimetype": "text/x-python",
   "name": "python",
   "nbconvert_exporter": "python",
   "pygments_lexer": "ipython3",
   "version": "3.6.8"
  }
 },
 "nbformat": 4,
 "nbformat_minor": 1
}
